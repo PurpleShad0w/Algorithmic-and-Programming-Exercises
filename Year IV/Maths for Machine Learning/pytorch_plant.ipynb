{
 "cells": [
  {
   "cell_type": "code",
   "execution_count": 2,
   "metadata": {},
   "outputs": [],
   "source": [
    "import pandas as pd\n",
    "import numpy as np\n",
    "import cv2\n",
    "import timm\n",
    "import torch\n",
    "import torch.nn as nn\n",
    "import albumentations as A\n",
    "import pytorch_lightning as pl\n",
    "import matplotlib.pyplot as plt\n",
    "\n",
    "from torch.utils.data import Dataset, DataLoader\n",
    "from albumentations.core.composition import Compose, OneOf\n",
    "from albumentations.augmentations.transforms import CLAHE, GaussNoise, ISONoise\n",
    "from albumentations.pytorch import ToTensorV2\n",
    "\n",
    "from pytorch_lightning import Trainer, seed_everything\n",
    "from pytorch_lightning import Callback\n",
    "from pytorch_lightning.loggers import CSVLogger\n",
    "from pytorch_lightning.callbacks import ModelCheckpoint, EarlyStopping\n",
    "\n",
    "from sklearn.model_selection import StratifiedKFold"
   ]
  },
  {
   "cell_type": "code",
   "execution_count": 3,
   "metadata": {},
   "outputs": [
    {
     "name": "stdout",
     "output_type": "stream",
     "text": [
      "PyTorch Lightning version: 1.2.0\n"
     ]
    }
   ],
   "source": [
    "print(f\"PyTorch Lightning version: {pl.__version__}\")"
   ]
  },
  {
   "attachments": {},
   "cell_type": "markdown",
   "metadata": {},
   "source": [
    "### Config"
   ]
  },
  {
   "cell_type": "code",
   "execution_count": 4,
   "metadata": {},
   "outputs": [],
   "source": [
    "class CFG:\n",
    "    seed = 42\n",
    "    model_name = 'resnet50'\n",
    "    pretrained = True\n",
    "    img_size = 512\n",
    "    num_classes = 12\n",
    "    lr = 5e-4\n",
    "    min_lr = 1e-6\n",
    "    t_max = 20\n",
    "    num_epochs = 20\n",
    "    batch_size = 32\n",
    "    accum = 1\n",
    "    precision = 16\n",
    "    n_fold = 5\n",
    "    device = torch.device('cuda' if torch.cuda.is_available() else 'cpu')"
   ]
  },
  {
   "cell_type": "code",
   "execution_count": 5,
   "metadata": {},
   "outputs": [],
   "source": [
    "PATH = \"plant_data/\"\n",
    "TRAIN_DIR = \"plant_data/resized-plant2021/img_sz_512/\"\n",
    "TEST_DIR = PATH + 'test_images/'"
   ]
  },
  {
   "cell_type": "code",
   "execution_count": 6,
   "metadata": {},
   "outputs": [
    {
     "name": "stderr",
     "output_type": "stream",
     "text": [
      "Global seed set to 42\n"
     ]
    },
    {
     "data": {
      "text/plain": [
       "42"
      ]
     },
     "execution_count": 6,
     "metadata": {},
     "output_type": "execute_result"
    }
   ],
   "source": [
    "seed_everything(CFG.seed)"
   ]
  },
  {
   "cell_type": "code",
   "execution_count": 7,
   "metadata": {},
   "outputs": [
    {
     "data": {
      "text/html": [
       "<div>\n",
       "<style scoped>\n",
       "    .dataframe tbody tr th:only-of-type {\n",
       "        vertical-align: middle;\n",
       "    }\n",
       "\n",
       "    .dataframe tbody tr th {\n",
       "        vertical-align: top;\n",
       "    }\n",
       "\n",
       "    .dataframe thead th {\n",
       "        text-align: right;\n",
       "    }\n",
       "</style>\n",
       "<table border=\"1\" class=\"dataframe\">\n",
       "  <thead>\n",
       "    <tr style=\"text-align: right;\">\n",
       "      <th></th>\n",
       "      <th>image</th>\n",
       "      <th>labels</th>\n",
       "    </tr>\n",
       "  </thead>\n",
       "  <tbody>\n",
       "    <tr>\n",
       "      <th>0</th>\n",
       "      <td>800113bb65efe69e.jpg</td>\n",
       "      <td>healthy</td>\n",
       "    </tr>\n",
       "    <tr>\n",
       "      <th>1</th>\n",
       "      <td>8002cb321f8bfcdf.jpg</td>\n",
       "      <td>scab frog_eye_leaf_spot complex</td>\n",
       "    </tr>\n",
       "    <tr>\n",
       "      <th>2</th>\n",
       "      <td>80070f7fb5e2ccaa.jpg</td>\n",
       "      <td>scab</td>\n",
       "    </tr>\n",
       "    <tr>\n",
       "      <th>3</th>\n",
       "      <td>80077517781fb94f.jpg</td>\n",
       "      <td>scab</td>\n",
       "    </tr>\n",
       "    <tr>\n",
       "      <th>4</th>\n",
       "      <td>800cbf0ff87721f8.jpg</td>\n",
       "      <td>complex</td>\n",
       "    </tr>\n",
       "  </tbody>\n",
       "</table>\n",
       "</div>"
      ],
      "text/plain": [
       "                  image                           labels\n",
       "0  800113bb65efe69e.jpg                          healthy\n",
       "1  8002cb321f8bfcdf.jpg  scab frog_eye_leaf_spot complex\n",
       "2  80070f7fb5e2ccaa.jpg                             scab\n",
       "3  80077517781fb94f.jpg                             scab\n",
       "4  800cbf0ff87721f8.jpg                          complex"
      ]
     },
     "execution_count": 7,
     "metadata": {},
     "output_type": "execute_result"
    }
   ],
   "source": [
    "df_all = pd.read_csv(PATH + \"train.csv\")\n",
    "df_all.head()"
   ]
  },
  {
   "attachments": {},
   "cell_type": "markdown",
   "metadata": {},
   "source": [
    "### Label Encoding"
   ]
  },
  {
   "cell_type": "code",
   "execution_count": 8,
   "metadata": {},
   "outputs": [
    {
     "data": {
      "text/html": [
       "<div>\n",
       "<style scoped>\n",
       "    .dataframe tbody tr th:only-of-type {\n",
       "        vertical-align: middle;\n",
       "    }\n",
       "\n",
       "    .dataframe tbody tr th {\n",
       "        vertical-align: top;\n",
       "    }\n",
       "\n",
       "    .dataframe thead th {\n",
       "        text-align: right;\n",
       "    }\n",
       "</style>\n",
       "<table border=\"1\" class=\"dataframe\">\n",
       "  <thead>\n",
       "    <tr style=\"text-align: right;\">\n",
       "      <th></th>\n",
       "      <th>image</th>\n",
       "      <th>labels</th>\n",
       "    </tr>\n",
       "  </thead>\n",
       "  <tbody>\n",
       "    <tr>\n",
       "      <th>0</th>\n",
       "      <td>800113bb65efe69e.jpg</td>\n",
       "      <td>1</td>\n",
       "    </tr>\n",
       "    <tr>\n",
       "      <th>1</th>\n",
       "      <td>8002cb321f8bfcdf.jpg</td>\n",
       "      <td>7</td>\n",
       "    </tr>\n",
       "    <tr>\n",
       "      <th>2</th>\n",
       "      <td>80070f7fb5e2ccaa.jpg</td>\n",
       "      <td>0</td>\n",
       "    </tr>\n",
       "    <tr>\n",
       "      <th>3</th>\n",
       "      <td>80077517781fb94f.jpg</td>\n",
       "      <td>0</td>\n",
       "    </tr>\n",
       "    <tr>\n",
       "      <th>4</th>\n",
       "      <td>800cbf0ff87721f8.jpg</td>\n",
       "      <td>4</td>\n",
       "    </tr>\n",
       "  </tbody>\n",
       "</table>\n",
       "</div>"
      ],
      "text/plain": [
       "                  image  labels\n",
       "0  800113bb65efe69e.jpg       1\n",
       "1  8002cb321f8bfcdf.jpg       7\n",
       "2  80070f7fb5e2ccaa.jpg       0\n",
       "3  80077517781fb94f.jpg       0\n",
       "4  800cbf0ff87721f8.jpg       4"
      ]
     },
     "execution_count": 8,
     "metadata": {},
     "output_type": "execute_result"
    }
   ],
   "source": [
    "labels = list(df_all['labels'].value_counts().keys())\n",
    "labels_dict = dict(zip(labels, range(12)))\n",
    "df_all = df_all.replace({\"labels\": labels_dict})\n",
    "df_all.head()"
   ]
  },
  {
   "attachments": {},
   "cell_type": "markdown",
   "metadata": {},
   "source": [
    "### Split Train Data"
   ]
  },
  {
   "cell_type": "code",
   "execution_count": 9,
   "metadata": {},
   "outputs": [
    {
     "name": "stdout",
     "output_type": "stream",
     "text": [
      "train size: 14905\n",
      "valid size: 3727\n"
     ]
    }
   ],
   "source": [
    "sfk = StratifiedKFold(CFG.n_fold)\n",
    "for train_idx, valid_idx in sfk.split(df_all['image'], df_all['labels']):\n",
    "    df_train = df_all.iloc[train_idx]\n",
    "    df_valid = df_all.iloc[valid_idx]\n",
    "    break\n",
    "\n",
    "print(f\"train size: {len(df_train)}\")\n",
    "print(f\"valid size: {len(df_valid)}\")"
   ]
  },
  {
   "attachments": {},
   "cell_type": "markdown",
   "metadata": {},
   "source": [
    "### Define Dataset"
   ]
  },
  {
   "cell_type": "code",
   "execution_count": 10,
   "metadata": {},
   "outputs": [],
   "source": [
    "class PlantDataset(Dataset):\n",
    "    def __init__(self, df, transform=None):\n",
    "        self.image_id = df['image'].values\n",
    "        self.labels = df['labels'].values\n",
    "        self.transform = transform\n",
    "\n",
    "    def __len__(self):\n",
    "        return len(self.labels)\n",
    "\n",
    "    def __getitem__(self, idx):\n",
    "        image_id = self.image_id[idx]\n",
    "        label = self.labels[idx]\n",
    "        \n",
    "        image_path = TRAIN_DIR + image_id\n",
    "        image = cv2.imread(image_path)\n",
    "        image = cv2.cvtColor(image, cv2.COLOR_BGR2RGB)\n",
    "        \n",
    "        augmented = self.transform(image=image)\n",
    "        image = augmented['image']\n",
    "        return {'image':image, 'target': label}"
   ]
  },
  {
   "cell_type": "code",
   "execution_count": 11,
   "metadata": {},
   "outputs": [],
   "source": [
    "def get_transform(phase: str):\n",
    "    if phase == 'train':\n",
    "        return Compose([\n",
    "            A.RandomResizedCrop(height=CFG.img_size, width=CFG.img_size),\n",
    "            A.HorizontalFlip(p=0.5),\n",
    "            A.ShiftScaleRotate(p=0.5),\n",
    "            A.RandomBrightnessContrast(p=0.5),\n",
    "            A.Normalize(),\n",
    "            ToTensorV2(),\n",
    "        ])\n",
    "    else:\n",
    "        return Compose([\n",
    "            A.Resize(height=CFG.img_size, width=CFG.img_size),\n",
    "            A.Normalize(),\n",
    "            ToTensorV2(),\n",
    "        ])"
   ]
  },
  {
   "cell_type": "code",
   "execution_count": 12,
   "metadata": {},
   "outputs": [],
   "source": [
    "train_dataset = PlantDataset(df_train, get_transform('train'))\n",
    "valid_dataset = PlantDataset(df_valid, get_transform('valid'))\n",
    "\n",
    "train_loader = DataLoader(train_dataset, batch_size=CFG.batch_size, shuffle=True, num_workers=2, pin_memory=True, drop_last=True)\n",
    "valid_loader = DataLoader(valid_dataset, batch_size=CFG.batch_size, shuffle=False, num_workers=2)"
   ]
  },
  {
   "attachments": {},
   "cell_type": "markdown",
   "metadata": {},
   "source": [
    "### Define Model"
   ]
  },
  {
   "cell_type": "code",
   "execution_count": 13,
   "metadata": {},
   "outputs": [],
   "source": [
    "class CustomResNet(nn.Module):\n",
    "    def __init__(self, model_name='resnet18', pretrained=False):\n",
    "        super().__init__()\n",
    "        self.model = timm.create_model(model_name, pretrained=pretrained)\n",
    "        in_features = self.model.get_classifier().in_features\n",
    "        self.model.fc = nn.Linear(in_features, CFG.num_classes)\n",
    "\n",
    "    def forward(self, x):\n",
    "        x = self.model(x)\n",
    "        return x"
   ]
  },
  {
   "cell_type": "code",
   "execution_count": 14,
   "metadata": {},
   "outputs": [],
   "source": [
    "class Plant(pl.LightningModule):\n",
    "    def __init__(self, model):\n",
    "        super(Plant, self).__init__()\n",
    "        self.model = model\n",
    "        self.metric = pl.metrics.F1(num_classes=CFG.num_classes)\n",
    "        self.criterion = nn.CrossEntropyLoss()\n",
    "        self.lr = CFG.lr\n",
    "\n",
    "    def forward(self, x, *args, **kwargs):\n",
    "        return self.model(x)\n",
    "\n",
    "    def configure_optimizers(self):\n",
    "        self.optimizer = torch.optim.Adam(self.model.parameters(), lr=self.lr)\n",
    "        self.scheduler = torch.optim.lr_scheduler.CosineAnnealingLR(self.optimizer, T_max=CFG.t_max, eta_min=CFG.min_lr)\n",
    "\n",
    "        return {'optimizer': self.optimizer, 'lr_scheduler': self.scheduler}\n",
    "\n",
    "    def training_step(self, batch, batch_idx):\n",
    "        image = batch['image']\n",
    "        target = batch['target']\n",
    "        output = self.model(image)\n",
    "        loss = self.criterion(output, target)\n",
    "        score = self.metric(output.argmax(1), target)\n",
    "        logs = {'train_loss': loss, 'train_f1': score, 'lr': self.optimizer.param_groups[0]['lr']}\n",
    "        self.log_dict(\n",
    "            logs,\n",
    "            on_step=False, on_epoch=True, prog_bar=True, logger=True\n",
    "        )\n",
    "        return loss\n",
    "\n",
    "    def validation_step(self, batch, batch_idx):\n",
    "        image = batch['image']\n",
    "        target = batch['target']\n",
    "        output = self.model(image)\n",
    "        loss = self.criterion(output, target)\n",
    "        score = self.metric(output.argmax(1), target)\n",
    "        logs = {'valid_loss': loss, 'valid_f1': score}\n",
    "        self.log_dict(\n",
    "            logs,\n",
    "            on_step=False, on_epoch=True, prog_bar=True, logger=True\n",
    "        )\n",
    "        return loss"
   ]
  },
  {
   "cell_type": "code",
   "execution_count": 15,
   "metadata": {},
   "outputs": [],
   "source": [
    "model = CustomResNet(model_name=CFG.model_name, pretrained=CFG.pretrained)\n",
    "plant_model = Plant(model)"
   ]
  },
  {
   "cell_type": "code",
   "execution_count": 28,
   "metadata": {},
   "outputs": [
    {
     "name": "stderr",
     "output_type": "stream",
     "text": [
      "GPU available: False, used: False\n",
      "TPU available: None, using: 0 TPU cores\n"
     ]
    }
   ],
   "source": [
    "logger = CSVLogger(save_dir='logs/', name=CFG.model_name)\n",
    "logger.log_hyperparams(CFG.__dict__)\n",
    "checkpoint_callback = ModelCheckpoint(monitor='valid_loss',\n",
    "                                      save_top_k=1,\n",
    "                                      save_last=True,\n",
    "                                      save_weights_only=True,\n",
    "                                      filename='checkpoint/{epoch:02d}-{valid_loss:.4f}-{valid_f1:.4f}',\n",
    "                                      verbose=False,\n",
    "                                      mode='min')\n",
    "\n",
    "trainer = Trainer(\n",
    "    max_epochs=CFG.num_epochs,\n",
    "    accumulate_grad_batches=CFG.accum,\n",
    "    checkpoint_callback=checkpoint_callback,\n",
    "    logger=logger,\n",
    "    weights_summary='top',\n",
    ")"
   ]
  },
  {
   "attachments": {},
   "cell_type": "markdown",
   "metadata": {},
   "source": [
    "### Training"
   ]
  },
  {
   "cell_type": "code",
   "execution_count": null,
   "metadata": {},
   "outputs": [],
   "source": [
    "trainer.fit(plant_model, train_dataloader=train_loader, val_dataloaders=valid_loader)"
   ]
  },
  {
   "attachments": {},
   "cell_type": "markdown",
   "metadata": {},
   "source": [
    "### Results"
   ]
  },
  {
   "cell_type": "code",
   "execution_count": null,
   "metadata": {},
   "outputs": [],
   "source": [
    "metrics = pd.read_csv(f'{trainer.logger.log_dir}/metrics.csv')\n",
    "\n",
    "train_acc = metrics['train_f1'].dropna().reset_index(drop=True)\n",
    "valid_acc = metrics['valid_f1'].dropna().reset_index(drop=True)\n",
    "    \n",
    "fig = plt.figure(figsize=(7, 6))\n",
    "plt.grid(True)\n",
    "plt.plot(train_acc, color=\"r\", marker=\"o\", label='train/f1')\n",
    "plt.plot(valid_acc, color=\"b\", marker=\"x\", label='valid/f1')\n",
    "plt.ylabel('F1', fontsize=24)\n",
    "plt.xlabel('Epoch', fontsize=24)\n",
    "plt.legend(loc='lower right', fontsize=18)\n",
    "plt.savefig(f'{trainer.logger.log_dir}/f1.png')\n",
    "\n",
    "train_loss = metrics['train_loss'].dropna().reset_index(drop=True)\n",
    "valid_loss = metrics['valid_loss'].dropna().reset_index(drop=True)\n",
    "\n",
    "fig = plt.figure(figsize=(7, 6))\n",
    "plt.grid(True)\n",
    "plt.plot(train_loss, color=\"r\", marker=\"o\", label='train/loss')\n",
    "plt.plot(valid_loss, color=\"b\", marker=\"x\", label='valid/loss')\n",
    "plt.ylabel('Loss', fontsize=24)\n",
    "plt.xlabel('Epoch', fontsize=24)\n",
    "plt.legend(loc='upper right', fontsize=18)\n",
    "plt.savefig(f'{trainer.logger.log_dir}/loss.png')\\\n",
    "\n",
    "lr = metrics['lr'].dropna().reset_index(drop=True)\n",
    "\n",
    "fig = plt.figure(figsize=(7, 6))\n",
    "plt.grid(True)\n",
    "plt.plot(lr, color=\"g\", marker=\"o\", label='learning rate')\n",
    "plt.ylabel('LR', fontsize=24)\n",
    "plt.xlabel('Epoch', fontsize=24)\n",
    "plt.legend(loc='upper right', fontsize=18)\n",
    "plt.savefig(f'{trainer.logger.log_dir}/lr.png')"
   ]
  }
 ],
 "metadata": {
  "kernelspec": {
   "display_name": "Python 3",
   "language": "python",
   "name": "python3"
  },
  "language_info": {
   "codemirror_mode": {
    "name": "ipython",
    "version": 3
   },
   "file_extension": ".py",
   "mimetype": "text/x-python",
   "name": "python",
   "nbconvert_exporter": "python",
   "pygments_lexer": "ipython3",
   "version": "3.10.3"
  },
  "orig_nbformat": 4
 },
 "nbformat": 4,
 "nbformat_minor": 2
}
