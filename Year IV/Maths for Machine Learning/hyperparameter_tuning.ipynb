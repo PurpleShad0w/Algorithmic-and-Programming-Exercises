{
 "cells": [
  {
   "cell_type": "code",
   "execution_count": 16,
   "metadata": {},
   "outputs": [],
   "source": [
    "import pandas as pd\n",
    "import time\n",
    "\n",
    "from sklearn import datasets\n",
    "from sklearn.model_selection import train_test_split\n",
    "from sklearn.ensemble import RandomForestClassifier\n",
    "from sklearn.model_selection import GridSearchCV\n",
    "from sklearn.model_selection import RandomizedSearchCV\n",
    "from sklearn.model_selection import cross_val_score\n",
    "import optuna \n",
    "from optuna.samplers import TPESampler"
   ]
  },
  {
   "attachments": {},
   "cell_type": "markdown",
   "metadata": {},
   "source": [
    "- Load and prepare the data."
   ]
  },
  {
   "cell_type": "code",
   "execution_count": 3,
   "metadata": {},
   "outputs": [],
   "source": [
    "digits = datasets.load_digits()\n",
    "\n",
    "n_samples = len(digits.images)\n",
    "data = digits.images.reshape((n_samples, -1))\n",
    "\n",
    "X_train, X_test, y_train, y_test = train_test_split(data,\n",
    "    digits.target, test_size=0.25, shuffle=False)"
   ]
  },
  {
   "attachments": {},
   "cell_type": "markdown",
   "metadata": {},
   "source": [
    "- Define RFC and sample space."
   ]
  },
  {
   "cell_type": "code",
   "execution_count": 5,
   "metadata": {},
   "outputs": [],
   "source": [
    "rfc = RandomForestClassifier(random_state=42)\n",
    "\n",
    "param_grid = {\n",
    "    'n_estimators': [100,150,200],\n",
    "    'criterion': ['gini', 'entropy'],\n",
    "    'min_samples_split': [2, 3, 4],\n",
    "    'min_samples_leaf': [1, 2, 3, 4, 5],\n",
    "    'max_features': ['auto', 'sqrt', 'log2'],\n",
    "    'max_depth': [5, 6, 7]\n",
    "}"
   ]
  },
  {
   "attachments": {},
   "cell_type": "markdown",
   "metadata": {},
   "source": [
    "- Perform the tuning using GridSearchCV."
   ]
  },
  {
   "cell_type": "code",
   "execution_count": 8,
   "metadata": {},
   "outputs": [],
   "source": [
    "gs = GridSearchCV(estimator=rfc,\n",
    "    param_grid=param_grid,\n",
    "    scoring='f1_micro',\n",
    "    cv=5,\n",
    "    n_jobs=-1,\n",
    "    verbose=2)"
   ]
  },
  {
   "cell_type": "code",
   "execution_count": 9,
   "metadata": {},
   "outputs": [
    {
     "name": "stdout",
     "output_type": "stream",
     "text": [
      "Fitting 5 folds for each of 810 candidates, totalling 4050 fits\n"
     ]
    },
    {
     "name": "stderr",
     "output_type": "stream",
     "text": [
      "c:\\Python310\\lib\\site-packages\\sklearn\\ensemble\\_forest.py:427: FutureWarning: `max_features='auto'` has been deprecated in 1.1 and will be removed in 1.3. To keep the past behaviour, explicitly set `max_features='sqrt'` or remove this parameter as it is also the default value for RandomForestClassifiers and ExtraTreesClassifiers.\n",
      "  warn(\n"
     ]
    }
   ],
   "source": [
    "time_start = time.time()\n",
    "gs.fit(X_train, y_train)\n",
    "time_grid = time.time() - time_start"
   ]
  },
  {
   "cell_type": "code",
   "execution_count": 11,
   "metadata": {},
   "outputs": [],
   "source": [
    "values_grid = [810, gs.best_index_+1, gs.best_score_, time_grid]\n",
    "columns = ['Number of iterations', 'Iteration Number of Optimal Hyperparamters', 'Score', 'Time Elapsed (s)']\n",
    "results_grid = pd.DataFrame([values_grid], columns = columns)"
   ]
  },
  {
   "attachments": {},
   "cell_type": "markdown",
   "metadata": {},
   "source": [
    "- Perform the tuning using RandomizedSearchCV."
   ]
  },
  {
   "cell_type": "code",
   "execution_count": 13,
   "metadata": {},
   "outputs": [],
   "source": [
    "rs = RandomizedSearchCV(estimator=rfc,\n",
    "    param_distributions=param_grid,\n",
    "    scoring='f1_micro',\n",
    "    cv=5,\n",
    "    n_jobs=-1,\n",
    "    verbose=2,\n",
    "    n_iter=100)"
   ]
  },
  {
   "cell_type": "code",
   "execution_count": 14,
   "metadata": {},
   "outputs": [
    {
     "name": "stdout",
     "output_type": "stream",
     "text": [
      "Fitting 5 folds for each of 100 candidates, totalling 500 fits\n"
     ]
    },
    {
     "name": "stderr",
     "output_type": "stream",
     "text": [
      "c:\\Python310\\lib\\site-packages\\sklearn\\ensemble\\_forest.py:427: FutureWarning: `max_features='auto'` has been deprecated in 1.1 and will be removed in 1.3. To keep the past behaviour, explicitly set `max_features='sqrt'` or remove this parameter as it is also the default value for RandomForestClassifiers and ExtraTreesClassifiers.\n",
      "  warn(\n"
     ]
    }
   ],
   "source": [
    "time_start = time.time()\n",
    "rs.fit(X_train, y_train)\n",
    "time_random = time.time() - time_start"
   ]
  },
  {
   "cell_type": "code",
   "execution_count": 15,
   "metadata": {},
   "outputs": [],
   "source": [
    "values_grid = [[100, rs.best_index_+1, rs.best_score_, time_random]]\n",
    "results_random = pd.DataFrame(values_grid, columns = columns)"
   ]
  },
  {
   "attachments": {},
   "cell_type": "markdown",
   "metadata": {},
   "source": [
    "- Perform the tuning using Bayesian Optimization."
   ]
  },
  {
   "cell_type": "code",
   "execution_count": 17,
   "metadata": {},
   "outputs": [],
   "source": [
    "def objective(trial):\n",
    "    \"\"\"return the f1-score\"\"\"\n",
    "\n",
    "    n_estimators = trial.suggest_int('n_estimators', low=100, high=200, step=50)\n",
    "    criterion = trial.suggest_categorical('criterion', ['gini', 'entropy'])\n",
    "    min_samples_split = trial.suggest_int('min_samples_split', low=2, high=4, step=1)\n",
    "    min_samples_leaf = trial.suggest_int('min_samples_leaf', low=1, high=5, step=1)\n",
    "    max_depth = trial.suggest_int('max_depth', low=5, high=7, step=1)\n",
    "    max_features = trial.suggest_categorical('max_features', ['auto', 'sqrt','log2'])\n",
    "\n",
    "    rfc = RandomForestClassifier(n_estimators=n_estimators, \n",
    "        criterion=criterion,\n",
    "        min_samples_split=min_samples_split,\n",
    "        min_samples_leaf=min_samples_leaf,\n",
    "        max_depth=max_depth,\n",
    "        max_features=max_features,\n",
    "        random_state=42)\n",
    "\n",
    "    score = cross_val_score(estimator=rfc, \n",
    "        X=X_train, \n",
    "        y=y_train, \n",
    "        scoring='f1_micro',\n",
    "        cv=5,\n",
    "        n_jobs=-1).mean()\n",
    "    \n",
    "    return score"
   ]
  },
  {
   "cell_type": "code",
   "execution_count": 18,
   "metadata": {},
   "outputs": [
    {
     "name": "stderr",
     "output_type": "stream",
     "text": [
      "\u001b[32m[I 2023-02-07 15:31:33,990]\u001b[0m A new study created in memory with name: no-name-a1d3ec11-7170-45fb-b184-8e414b0b5d4b\u001b[0m\n"
     ]
    }
   ],
   "source": [
    "study = optuna.create_study(sampler=TPESampler(), direction='maximize')"
   ]
  },
  {
   "cell_type": "code",
   "execution_count": 19,
   "metadata": {},
   "outputs": [
    {
     "name": "stderr",
     "output_type": "stream",
     "text": [
      "\u001b[32m[I 2023-02-07 15:31:43,770]\u001b[0m Trial 0 finished with value: 0.8945724907063196 and parameters: {'n_estimators': 100, 'criterion': 'gini', 'min_samples_split': 4, 'min_samples_leaf': 2, 'max_depth': 5, 'max_features': 'log2'}. Best is trial 0 with value: 0.8945724907063196.\u001b[0m\n",
      "\u001b[32m[I 2023-02-07 15:31:44,012]\u001b[0m Trial 1 finished with value: 0.9027536830510808 and parameters: {'n_estimators': 100, 'criterion': 'entropy', 'min_samples_split': 2, 'min_samples_leaf': 4, 'max_depth': 5, 'max_features': 'auto'}. Best is trial 1 with value: 0.9027536830510808.\u001b[0m\n",
      "\u001b[32m[I 2023-02-07 15:31:44,405]\u001b[0m Trial 2 finished with value: 0.9064573867547846 and parameters: {'n_estimators': 200, 'criterion': 'gini', 'min_samples_split': 2, 'min_samples_leaf': 4, 'max_depth': 5, 'max_features': 'sqrt'}. Best is trial 2 with value: 0.9064573867547846.\u001b[0m\n",
      "\u001b[32m[I 2023-02-07 15:31:44,774]\u001b[0m Trial 3 finished with value: 0.9072063885446784 and parameters: {'n_estimators': 200, 'criterion': 'gini', 'min_samples_split': 2, 'min_samples_leaf': 1, 'max_depth': 5, 'max_features': 'sqrt'}. Best is trial 3 with value: 0.9072063885446784.\u001b[0m\n",
      "\u001b[32m[I 2023-02-07 15:31:45,105]\u001b[0m Trial 4 finished with value: 0.8975437147184359 and parameters: {'n_estimators': 150, 'criterion': 'gini', 'min_samples_split': 4, 'min_samples_leaf': 1, 'max_depth': 5, 'max_features': 'log2'}. Best is trial 3 with value: 0.9072063885446784.\u001b[0m\n",
      "\u001b[32m[I 2023-02-07 15:31:45,385]\u001b[0m Trial 5 finished with value: 0.9161062921657717 and parameters: {'n_estimators': 150, 'criterion': 'gini', 'min_samples_split': 2, 'min_samples_leaf': 4, 'max_depth': 7, 'max_features': 'log2'}. Best is trial 5 with value: 0.9161062921657717.\u001b[0m\n",
      "\u001b[32m[I 2023-02-07 15:31:45,782]\u001b[0m Trial 6 finished with value: 0.909436871816054 and parameters: {'n_estimators': 200, 'criterion': 'entropy', 'min_samples_split': 3, 'min_samples_leaf': 1, 'max_depth': 5, 'max_features': 'log2'}. Best is trial 5 with value: 0.9161062921657717.\u001b[0m\n",
      "\u001b[32m[I 2023-02-07 15:31:46,060]\u001b[0m Trial 7 finished with value: 0.9094148423516455 and parameters: {'n_estimators': 150, 'criterion': 'gini', 'min_samples_split': 4, 'min_samples_leaf': 5, 'max_depth': 7, 'max_features': 'log2'}. Best is trial 5 with value: 0.9161062921657717.\u001b[0m\n",
      "\u001b[32m[I 2023-02-07 15:31:46,434]\u001b[0m Trial 8 finished with value: 0.9198457937491394 and parameters: {'n_estimators': 150, 'criterion': 'entropy', 'min_samples_split': 3, 'min_samples_leaf': 3, 'max_depth': 6, 'max_features': 'sqrt'}. Best is trial 8 with value: 0.9198457937491394.\u001b[0m\n",
      "\u001b[32m[I 2023-02-07 15:31:46,683]\u001b[0m Trial 9 finished with value: 0.9042406718986644 and parameters: {'n_estimators': 100, 'criterion': 'entropy', 'min_samples_split': 3, 'min_samples_leaf': 2, 'max_depth': 5, 'max_features': 'auto'}. Best is trial 8 with value: 0.9198457937491394.\u001b[0m\n",
      "\u001b[32m[I 2023-02-07 15:31:47,105]\u001b[0m Trial 10 finished with value: 0.9198457937491394 and parameters: {'n_estimators': 150, 'criterion': 'entropy', 'min_samples_split': 3, 'min_samples_leaf': 3, 'max_depth': 6, 'max_features': 'sqrt'}. Best is trial 8 with value: 0.9198457937491394.\u001b[0m\n",
      "\u001b[32m[I 2023-02-07 15:31:47,472]\u001b[0m Trial 11 finished with value: 0.9198457937491394 and parameters: {'n_estimators': 150, 'criterion': 'entropy', 'min_samples_split': 3, 'min_samples_leaf': 3, 'max_depth': 6, 'max_features': 'sqrt'}. Best is trial 8 with value: 0.9198457937491394.\u001b[0m\n",
      "\u001b[32m[I 2023-02-07 15:31:47,856]\u001b[0m Trial 12 finished with value: 0.9198457937491394 and parameters: {'n_estimators': 150, 'criterion': 'entropy', 'min_samples_split': 3, 'min_samples_leaf': 3, 'max_depth': 6, 'max_features': 'sqrt'}. Best is trial 8 with value: 0.9198457937491394.\u001b[0m\n",
      "\u001b[32m[I 2023-02-07 15:31:48,284]\u001b[0m Trial 13 finished with value: 0.9220625086052596 and parameters: {'n_estimators': 150, 'criterion': 'entropy', 'min_samples_split': 3, 'min_samples_leaf': 2, 'max_depth': 6, 'max_features': 'sqrt'}. Best is trial 13 with value: 0.9220625086052596.\u001b[0m\n",
      "\u001b[32m[I 2023-02-07 15:31:48,775]\u001b[0m Trial 14 finished with value: 0.9265179677819082 and parameters: {'n_estimators': 200, 'criterion': 'entropy', 'min_samples_split': 3, 'min_samples_leaf': 2, 'max_depth': 6, 'max_features': 'sqrt'}. Best is trial 14 with value: 0.9265179677819082.\u001b[0m\n",
      "\u001b[32m[I 2023-02-07 15:31:49,304]\u001b[0m Trial 15 finished with value: 0.9272669695718022 and parameters: {'n_estimators': 200, 'criterion': 'entropy', 'min_samples_split': 4, 'min_samples_leaf': 2, 'max_depth': 7, 'max_features': 'sqrt'}. Best is trial 15 with value: 0.9272669695718022.\u001b[0m\n",
      "\u001b[32m[I 2023-02-07 15:31:49,846]\u001b[0m Trial 16 finished with value: 0.9272669695718022 and parameters: {'n_estimators': 200, 'criterion': 'entropy', 'min_samples_split': 4, 'min_samples_leaf': 2, 'max_depth': 7, 'max_features': 'sqrt'}. Best is trial 15 with value: 0.9272669695718022.\u001b[0m\n",
      "\u001b[32m[I 2023-02-07 15:31:50,397]\u001b[0m Trial 17 finished with value: 0.9272669695718022 and parameters: {'n_estimators': 200, 'criterion': 'entropy', 'min_samples_split': 4, 'min_samples_leaf': 2, 'max_depth': 7, 'max_features': 'auto'}. Best is trial 15 with value: 0.9272669695718022.\u001b[0m\n",
      "\u001b[32m[I 2023-02-07 15:31:50,917]\u001b[0m Trial 18 finished with value: 0.9294891917940244 and parameters: {'n_estimators': 200, 'criterion': 'entropy', 'min_samples_split': 4, 'min_samples_leaf': 1, 'max_depth': 7, 'max_features': 'sqrt'}. Best is trial 18 with value: 0.9294891917940244.\u001b[0m\n",
      "\u001b[32m[I 2023-02-07 15:31:51,448]\u001b[0m Trial 19 finished with value: 0.9294891917940244 and parameters: {'n_estimators': 200, 'criterion': 'entropy', 'min_samples_split': 4, 'min_samples_leaf': 1, 'max_depth': 7, 'max_features': 'sqrt'}. Best is trial 18 with value: 0.9294891917940244.\u001b[0m\n",
      "\u001b[32m[I 2023-02-07 15:31:51,997]\u001b[0m Trial 20 finished with value: 0.9294891917940244 and parameters: {'n_estimators': 200, 'criterion': 'entropy', 'min_samples_split': 4, 'min_samples_leaf': 1, 'max_depth': 7, 'max_features': 'auto'}. Best is trial 18 with value: 0.9294891917940244.\u001b[0m\n",
      "\u001b[32m[I 2023-02-07 15:31:52,548]\u001b[0m Trial 21 finished with value: 0.9294891917940244 and parameters: {'n_estimators': 200, 'criterion': 'entropy', 'min_samples_split': 4, 'min_samples_leaf': 1, 'max_depth': 7, 'max_features': 'auto'}. Best is trial 18 with value: 0.9294891917940244.\u001b[0m\n",
      "\u001b[32m[I 2023-02-07 15:31:53,094]\u001b[0m Trial 22 finished with value: 0.9294891917940244 and parameters: {'n_estimators': 200, 'criterion': 'entropy', 'min_samples_split': 4, 'min_samples_leaf': 1, 'max_depth': 7, 'max_features': 'auto'}. Best is trial 18 with value: 0.9294891917940244.\u001b[0m\n",
      "\u001b[32m[I 2023-02-07 15:31:53,643]\u001b[0m Trial 23 finished with value: 0.9294891917940244 and parameters: {'n_estimators': 200, 'criterion': 'entropy', 'min_samples_split': 4, 'min_samples_leaf': 1, 'max_depth': 7, 'max_features': 'auto'}. Best is trial 18 with value: 0.9294891917940244.\u001b[0m\n",
      "\u001b[32m[I 2023-02-07 15:31:54,192]\u001b[0m Trial 24 finished with value: 0.9294891917940244 and parameters: {'n_estimators': 200, 'criterion': 'entropy', 'min_samples_split': 4, 'min_samples_leaf': 1, 'max_depth': 7, 'max_features': 'auto'}. Best is trial 18 with value: 0.9294891917940244.\u001b[0m\n",
      "\u001b[32m[I 2023-02-07 15:31:54,739]\u001b[0m Trial 25 finished with value: 0.9294891917940244 and parameters: {'n_estimators': 200, 'criterion': 'entropy', 'min_samples_split': 4, 'min_samples_leaf': 1, 'max_depth': 7, 'max_features': 'sqrt'}. Best is trial 18 with value: 0.9294891917940244.\u001b[0m\n",
      "\u001b[32m[I 2023-02-07 15:31:55,283]\u001b[0m Trial 26 finished with value: 0.9294891917940244 and parameters: {'n_estimators': 200, 'criterion': 'entropy', 'min_samples_split': 4, 'min_samples_leaf': 1, 'max_depth': 7, 'max_features': 'auto'}. Best is trial 18 with value: 0.9294891917940244.\u001b[0m\n",
      "\u001b[32m[I 2023-02-07 15:31:55,803]\u001b[0m Trial 27 finished with value: 0.9265234751480105 and parameters: {'n_estimators': 200, 'criterion': 'entropy', 'min_samples_split': 4, 'min_samples_leaf': 5, 'max_depth': 7, 'max_features': 'sqrt'}. Best is trial 18 with value: 0.9294891917940244.\u001b[0m\n",
      "\u001b[32m[I 2023-02-07 15:31:56,384]\u001b[0m Trial 28 finished with value: 0.9272669695718022 and parameters: {'n_estimators': 200, 'criterion': 'entropy', 'min_samples_split': 4, 'min_samples_leaf': 2, 'max_depth': 7, 'max_features': 'auto'}. Best is trial 18 with value: 0.9294891917940244.\u001b[0m\n",
      "\u001b[32m[I 2023-02-07 15:31:56,621]\u001b[0m Trial 29 finished with value: 0.9146413327825968 and parameters: {'n_estimators': 100, 'criterion': 'gini', 'min_samples_split': 4, 'min_samples_leaf': 1, 'max_depth': 6, 'max_features': 'sqrt'}. Best is trial 18 with value: 0.9294891917940244.\u001b[0m\n",
      "\u001b[32m[I 2023-02-07 15:31:57,132]\u001b[0m Trial 30 finished with value: 0.9265289825141126 and parameters: {'n_estimators': 200, 'criterion': 'entropy', 'min_samples_split': 4, 'min_samples_leaf': 2, 'max_depth': 7, 'max_features': 'log2'}. Best is trial 18 with value: 0.9294891917940244.\u001b[0m\n",
      "\u001b[32m[I 2023-02-07 15:31:57,738]\u001b[0m Trial 31 finished with value: 0.9294891917940244 and parameters: {'n_estimators': 200, 'criterion': 'entropy', 'min_samples_split': 4, 'min_samples_leaf': 1, 'max_depth': 7, 'max_features': 'auto'}. Best is trial 18 with value: 0.9294891917940244.\u001b[0m\n",
      "\u001b[32m[I 2023-02-07 15:31:58,367]\u001b[0m Trial 32 finished with value: 0.9294891917940244 and parameters: {'n_estimators': 200, 'criterion': 'entropy', 'min_samples_split': 4, 'min_samples_leaf': 1, 'max_depth': 7, 'max_features': 'auto'}. Best is trial 18 with value: 0.9294891917940244.\u001b[0m\n",
      "\u001b[32m[I 2023-02-07 15:31:58,967]\u001b[0m Trial 33 finished with value: 0.9294891917940244 and parameters: {'n_estimators': 200, 'criterion': 'entropy', 'min_samples_split': 4, 'min_samples_leaf': 1, 'max_depth': 7, 'max_features': 'auto'}. Best is trial 18 with value: 0.9294891917940244.\u001b[0m\n",
      "\u001b[32m[I 2023-02-07 15:31:59,565]\u001b[0m Trial 34 finished with value: 0.9294891917940244 and parameters: {'n_estimators': 200, 'criterion': 'entropy', 'min_samples_split': 4, 'min_samples_leaf': 1, 'max_depth': 7, 'max_features': 'auto'}. Best is trial 18 with value: 0.9294891917940244.\u001b[0m\n",
      "\u001b[32m[I 2023-02-07 15:32:00,048]\u001b[0m Trial 35 finished with value: 0.9287346826380283 and parameters: {'n_estimators': 200, 'criterion': 'gini', 'min_samples_split': 4, 'min_samples_leaf': 1, 'max_depth': 7, 'max_features': 'auto'}. Best is trial 18 with value: 0.9294891917940244.\u001b[0m\n",
      "\u001b[32m[I 2023-02-07 15:32:00,568]\u001b[0m Trial 36 finished with value: 0.922079030703566 and parameters: {'n_estimators': 200, 'criterion': 'entropy', 'min_samples_split': 2, 'min_samples_leaf': 4, 'max_depth': 6, 'max_features': 'sqrt'}. Best is trial 18 with value: 0.9294891917940244.\u001b[0m\n",
      "\u001b[32m[I 2023-02-07 15:32:00,897]\u001b[0m Trial 37 finished with value: 0.9205727660746247 and parameters: {'n_estimators': 150, 'criterion': 'gini', 'min_samples_split': 4, 'min_samples_leaf': 2, 'max_depth': 7, 'max_features': 'auto'}. Best is trial 18 with value: 0.9294891917940244.\u001b[0m\n",
      "\u001b[32m[I 2023-02-07 15:32:01,389]\u001b[0m Trial 38 finished with value: 0.9287512047363349 and parameters: {'n_estimators': 200, 'criterion': 'entropy', 'min_samples_split': 4, 'min_samples_leaf': 1, 'max_depth': 7, 'max_features': 'log2'}. Best is trial 18 with value: 0.9294891917940244.\u001b[0m\n",
      "\u001b[32m[I 2023-02-07 15:32:01,727]\u001b[0m Trial 39 finished with value: 0.9294891917940244 and parameters: {'n_estimators': 150, 'criterion': 'gini', 'min_samples_split': 2, 'min_samples_leaf': 1, 'max_depth': 7, 'max_features': 'sqrt'}. Best is trial 18 with value: 0.9294891917940244.\u001b[0m\n",
      "\u001b[32m[I 2023-02-07 15:32:01,965]\u001b[0m Trial 40 finished with value: 0.9109238606636376 and parameters: {'n_estimators': 100, 'criterion': 'entropy', 'min_samples_split': 4, 'min_samples_leaf': 2, 'max_depth': 6, 'max_features': 'log2'}. Best is trial 18 with value: 0.9294891917940244.\u001b[0m\n",
      "\u001b[32m[I 2023-02-07 15:32:02,538]\u001b[0m Trial 41 finished with value: 0.9294891917940244 and parameters: {'n_estimators': 200, 'criterion': 'entropy', 'min_samples_split': 4, 'min_samples_leaf': 1, 'max_depth': 7, 'max_features': 'auto'}. Best is trial 18 with value: 0.9294891917940244.\u001b[0m\n",
      "\u001b[32m[I 2023-02-07 15:32:03,107]\u001b[0m Trial 42 finished with value: 0.9294891917940244 and parameters: {'n_estimators': 200, 'criterion': 'entropy', 'min_samples_split': 4, 'min_samples_leaf': 1, 'max_depth': 7, 'max_features': 'auto'}. Best is trial 18 with value: 0.9294891917940244.\u001b[0m\n",
      "\u001b[32m[I 2023-02-07 15:32:03,715]\u001b[0m Trial 43 finished with value: 0.9294891917940244 and parameters: {'n_estimators': 200, 'criterion': 'entropy', 'min_samples_split': 4, 'min_samples_leaf': 1, 'max_depth': 7, 'max_features': 'auto'}. Best is trial 18 with value: 0.9294891917940244.\u001b[0m\n",
      "\u001b[32m[I 2023-02-07 15:32:04,341]\u001b[0m Trial 44 finished with value: 0.9294891917940244 and parameters: {'n_estimators': 200, 'criterion': 'entropy', 'min_samples_split': 4, 'min_samples_leaf': 1, 'max_depth': 7, 'max_features': 'auto'}. Best is trial 18 with value: 0.9294891917940244.\u001b[0m\n",
      "\u001b[32m[I 2023-02-07 15:32:04,854]\u001b[0m Trial 45 finished with value: 0.927258708522649 and parameters: {'n_estimators': 200, 'criterion': 'entropy', 'min_samples_split': 3, 'min_samples_leaf': 4, 'max_depth': 7, 'max_features': 'auto'}. Best is trial 18 with value: 0.9294891917940244.\u001b[0m\n",
      "\u001b[32m[I 2023-02-07 15:32:05,283]\u001b[0m Trial 46 finished with value: 0.9317114140162467 and parameters: {'n_estimators': 150, 'criterion': 'entropy', 'min_samples_split': 4, 'min_samples_leaf': 1, 'max_depth': 7, 'max_features': 'sqrt'}. Best is trial 46 with value: 0.9317114140162467.\u001b[0m\n",
      "\u001b[32m[I 2023-02-07 15:32:05,592]\u001b[0m Trial 47 finished with value: 0.9131570976180642 and parameters: {'n_estimators': 150, 'criterion': 'gini', 'min_samples_split': 3, 'min_samples_leaf': 2, 'max_depth': 6, 'max_features': 'sqrt'}. Best is trial 46 with value: 0.9317114140162467.\u001b[0m\n",
      "\u001b[32m[I 2023-02-07 15:32:05,970]\u001b[0m Trial 48 finished with value: 0.9086933773922622 and parameters: {'n_estimators': 150, 'criterion': 'entropy', 'min_samples_split': 4, 'min_samples_leaf': 1, 'max_depth': 5, 'max_features': 'sqrt'}. Best is trial 46 with value: 0.9317114140162467.\u001b[0m\n",
      "\u001b[32m[I 2023-02-07 15:32:06,418]\u001b[0m Trial 49 finished with value: 0.9228115103951534 and parameters: {'n_estimators': 150, 'criterion': 'entropy', 'min_samples_split': 4, 'min_samples_leaf': 3, 'max_depth': 7, 'max_features': 'sqrt'}. Best is trial 46 with value: 0.9317114140162467.\u001b[0m\n",
      "\u001b[32m[I 2023-02-07 15:32:06,820]\u001b[0m Trial 50 finished with value: 0.9220625086052596 and parameters: {'n_estimators': 150, 'criterion': 'entropy', 'min_samples_split': 3, 'min_samples_leaf': 2, 'max_depth': 6, 'max_features': 'sqrt'}. Best is trial 46 with value: 0.9317114140162467.\u001b[0m\n",
      "\u001b[32m[I 2023-02-07 15:32:07,579]\u001b[0m Trial 51 finished with value: 0.9294891917940244 and parameters: {'n_estimators': 200, 'criterion': 'entropy', 'min_samples_split': 4, 'min_samples_leaf': 1, 'max_depth': 7, 'max_features': 'sqrt'}. Best is trial 46 with value: 0.9317114140162467.\u001b[0m\n",
      "\u001b[32m[I 2023-02-07 15:32:08,155]\u001b[0m Trial 52 finished with value: 0.9317114140162467 and parameters: {'n_estimators': 150, 'criterion': 'entropy', 'min_samples_split': 4, 'min_samples_leaf': 1, 'max_depth': 7, 'max_features': 'sqrt'}. Best is trial 46 with value: 0.9317114140162467.\u001b[0m\n",
      "\u001b[32m[I 2023-02-07 15:32:08,620]\u001b[0m Trial 53 finished with value: 0.9317114140162467 and parameters: {'n_estimators': 150, 'criterion': 'entropy', 'min_samples_split': 4, 'min_samples_leaf': 1, 'max_depth': 7, 'max_features': 'sqrt'}. Best is trial 46 with value: 0.9317114140162467.\u001b[0m\n",
      "\u001b[32m[I 2023-02-07 15:32:09,095]\u001b[0m Trial 54 finished with value: 0.9317114140162467 and parameters: {'n_estimators': 150, 'criterion': 'entropy', 'min_samples_split': 4, 'min_samples_leaf': 1, 'max_depth': 7, 'max_features': 'sqrt'}. Best is trial 46 with value: 0.9317114140162467.\u001b[0m\n",
      "\u001b[32m[I 2023-02-07 15:32:09,609]\u001b[0m Trial 55 finished with value: 0.9317114140162467 and parameters: {'n_estimators': 150, 'criterion': 'entropy', 'min_samples_split': 4, 'min_samples_leaf': 1, 'max_depth': 7, 'max_features': 'sqrt'}. Best is trial 46 with value: 0.9317114140162467.\u001b[0m\n",
      "\u001b[32m[I 2023-02-07 15:32:10,047]\u001b[0m Trial 56 finished with value: 0.9272614622057 and parameters: {'n_estimators': 150, 'criterion': 'entropy', 'min_samples_split': 4, 'min_samples_leaf': 2, 'max_depth': 7, 'max_features': 'sqrt'}. Best is trial 46 with value: 0.9317114140162467.\u001b[0m\n",
      "\u001b[32m[I 2023-02-07 15:32:10,509]\u001b[0m Trial 57 finished with value: 0.9317114140162467 and parameters: {'n_estimators': 150, 'criterion': 'entropy', 'min_samples_split': 4, 'min_samples_leaf': 1, 'max_depth': 7, 'max_features': 'sqrt'}. Best is trial 46 with value: 0.9317114140162467.\u001b[0m\n",
      "\u001b[32m[I 2023-02-07 15:32:10,952]\u001b[0m Trial 58 finished with value: 0.9317114140162467 and parameters: {'n_estimators': 150, 'criterion': 'entropy', 'min_samples_split': 4, 'min_samples_leaf': 1, 'max_depth': 7, 'max_features': 'sqrt'}. Best is trial 46 with value: 0.9317114140162467.\u001b[0m\n",
      "\u001b[32m[I 2023-02-07 15:32:11,364]\u001b[0m Trial 59 finished with value: 0.9272614622057 and parameters: {'n_estimators': 150, 'criterion': 'entropy', 'min_samples_split': 4, 'min_samples_leaf': 2, 'max_depth': 7, 'max_features': 'sqrt'}. Best is trial 46 with value: 0.9317114140162467.\u001b[0m\n",
      "\u001b[32m[I 2023-02-07 15:32:11,799]\u001b[0m Trial 60 finished with value: 0.9354261324521549 and parameters: {'n_estimators': 150, 'criterion': 'entropy', 'min_samples_split': 3, 'min_samples_leaf': 1, 'max_depth': 7, 'max_features': 'sqrt'}. Best is trial 60 with value: 0.9354261324521549.\u001b[0m\n",
      "\u001b[32m[I 2023-02-07 15:32:12,301]\u001b[0m Trial 61 finished with value: 0.9354261324521549 and parameters: {'n_estimators': 150, 'criterion': 'entropy', 'min_samples_split': 3, 'min_samples_leaf': 1, 'max_depth': 7, 'max_features': 'sqrt'}. Best is trial 60 with value: 0.9354261324521549.\u001b[0m\n",
      "\u001b[32m[I 2023-02-07 15:32:12,737]\u001b[0m Trial 62 finished with value: 0.9354261324521549 and parameters: {'n_estimators': 150, 'criterion': 'entropy', 'min_samples_split': 3, 'min_samples_leaf': 1, 'max_depth': 7, 'max_features': 'sqrt'}. Best is trial 60 with value: 0.9354261324521549.\u001b[0m\n",
      "\u001b[32m[I 2023-02-07 15:32:13,181]\u001b[0m Trial 63 finished with value: 0.9354261324521549 and parameters: {'n_estimators': 150, 'criterion': 'entropy', 'min_samples_split': 3, 'min_samples_leaf': 1, 'max_depth': 7, 'max_features': 'sqrt'}. Best is trial 60 with value: 0.9354261324521549.\u001b[0m\n",
      "\u001b[32m[I 2023-02-07 15:32:13,666]\u001b[0m Trial 64 finished with value: 0.9354261324521549 and parameters: {'n_estimators': 150, 'criterion': 'entropy', 'min_samples_split': 3, 'min_samples_leaf': 1, 'max_depth': 7, 'max_features': 'sqrt'}. Best is trial 60 with value: 0.9354261324521549.\u001b[0m\n",
      "\u001b[32m[I 2023-02-07 15:32:14,101]\u001b[0m Trial 65 finished with value: 0.9354261324521549 and parameters: {'n_estimators': 150, 'criterion': 'entropy', 'min_samples_split': 3, 'min_samples_leaf': 1, 'max_depth': 7, 'max_features': 'sqrt'}. Best is trial 60 with value: 0.9354261324521549.\u001b[0m\n",
      "\u001b[32m[I 2023-02-07 15:32:14,594]\u001b[0m Trial 66 finished with value: 0.9354261324521549 and parameters: {'n_estimators': 150, 'criterion': 'entropy', 'min_samples_split': 3, 'min_samples_leaf': 1, 'max_depth': 7, 'max_features': 'sqrt'}. Best is trial 60 with value: 0.9354261324521549.\u001b[0m\n",
      "\u001b[32m[I 2023-02-07 15:32:14,978]\u001b[0m Trial 67 finished with value: 0.9294864381109734 and parameters: {'n_estimators': 150, 'criterion': 'gini', 'min_samples_split': 3, 'min_samples_leaf': 1, 'max_depth': 7, 'max_features': 'sqrt'}. Best is trial 60 with value: 0.9354261324521549.\u001b[0m\n",
      "\u001b[32m[I 2023-02-07 15:32:15,401]\u001b[0m Trial 68 finished with value: 0.9272614622057 and parameters: {'n_estimators': 150, 'criterion': 'entropy', 'min_samples_split': 3, 'min_samples_leaf': 2, 'max_depth': 7, 'max_features': 'sqrt'}. Best is trial 60 with value: 0.9354261324521549.\u001b[0m\n",
      "\u001b[32m[I 2023-02-07 15:32:15,878]\u001b[0m Trial 69 finished with value: 0.9354261324521549 and parameters: {'n_estimators': 150, 'criterion': 'entropy', 'min_samples_split': 3, 'min_samples_leaf': 1, 'max_depth': 7, 'max_features': 'sqrt'}. Best is trial 60 with value: 0.9354261324521549.\u001b[0m\n",
      "\u001b[32m[I 2023-02-07 15:32:16,311]\u001b[0m Trial 70 finished with value: 0.9354261324521549 and parameters: {'n_estimators': 150, 'criterion': 'entropy', 'min_samples_split': 3, 'min_samples_leaf': 1, 'max_depth': 7, 'max_features': 'sqrt'}. Best is trial 60 with value: 0.9354261324521549.\u001b[0m\n",
      "\u001b[32m[I 2023-02-07 15:32:16,769]\u001b[0m Trial 71 finished with value: 0.9354261324521549 and parameters: {'n_estimators': 150, 'criterion': 'entropy', 'min_samples_split': 3, 'min_samples_leaf': 1, 'max_depth': 7, 'max_features': 'sqrt'}. Best is trial 60 with value: 0.9354261324521549.\u001b[0m\n",
      "\u001b[32m[I 2023-02-07 15:32:17,199]\u001b[0m Trial 72 finished with value: 0.9354261324521549 and parameters: {'n_estimators': 150, 'criterion': 'entropy', 'min_samples_split': 3, 'min_samples_leaf': 1, 'max_depth': 7, 'max_features': 'sqrt'}. Best is trial 60 with value: 0.9354261324521549.\u001b[0m\n",
      "\u001b[32m[I 2023-02-07 15:32:17,581]\u001b[0m Trial 73 finished with value: 0.9280104639955941 and parameters: {'n_estimators': 150, 'criterion': 'entropy', 'min_samples_split': 3, 'min_samples_leaf': 5, 'max_depth': 7, 'max_features': 'sqrt'}. Best is trial 60 with value: 0.9354261324521549.\u001b[0m\n",
      "\u001b[32m[I 2023-02-07 15:32:18,005]\u001b[0m Trial 74 finished with value: 0.9354261324521549 and parameters: {'n_estimators': 150, 'criterion': 'entropy', 'min_samples_split': 3, 'min_samples_leaf': 1, 'max_depth': 7, 'max_features': 'sqrt'}. Best is trial 60 with value: 0.9354261324521549.\u001b[0m\n",
      "\u001b[32m[I 2023-02-07 15:32:18,418]\u001b[0m Trial 75 finished with value: 0.9354261324521549 and parameters: {'n_estimators': 150, 'criterion': 'entropy', 'min_samples_split': 3, 'min_samples_leaf': 1, 'max_depth': 7, 'max_features': 'sqrt'}. Best is trial 60 with value: 0.9354261324521549.\u001b[0m\n",
      "\u001b[32m[I 2023-02-07 15:32:18,815]\u001b[0m Trial 76 finished with value: 0.9220597549222085 and parameters: {'n_estimators': 150, 'criterion': 'entropy', 'min_samples_split': 3, 'min_samples_leaf': 1, 'max_depth': 7, 'max_features': 'log2'}. Best is trial 60 with value: 0.9354261324521549.\u001b[0m\n",
      "\u001b[32m[I 2023-02-07 15:32:19,282]\u001b[0m Trial 77 finished with value: 0.9354261324521549 and parameters: {'n_estimators': 150, 'criterion': 'entropy', 'min_samples_split': 3, 'min_samples_leaf': 1, 'max_depth': 7, 'max_features': 'sqrt'}. Best is trial 60 with value: 0.9354261324521549.\u001b[0m\n",
      "\u001b[32m[I 2023-02-07 15:32:19,704]\u001b[0m Trial 78 finished with value: 0.9354261324521549 and parameters: {'n_estimators': 150, 'criterion': 'entropy', 'min_samples_split': 3, 'min_samples_leaf': 1, 'max_depth': 7, 'max_features': 'sqrt'}. Best is trial 60 with value: 0.9354261324521549.\u001b[0m\n",
      "\u001b[32m[I 2023-02-07 15:32:19,953]\u001b[0m Trial 79 finished with value: 0.9228004956629492 and parameters: {'n_estimators': 100, 'criterion': 'gini', 'min_samples_split': 3, 'min_samples_leaf': 2, 'max_depth': 7, 'max_features': 'sqrt'}. Best is trial 60 with value: 0.9354261324521549.\u001b[0m\n",
      "\u001b[32m[I 2023-02-07 15:32:20,356]\u001b[0m Trial 80 finished with value: 0.9079498829684702 and parameters: {'n_estimators': 150, 'criterion': 'entropy', 'min_samples_split': 3, 'min_samples_leaf': 1, 'max_depth': 5, 'max_features': 'sqrt'}. Best is trial 60 with value: 0.9354261324521549.\u001b[0m\n",
      "\u001b[32m[I 2023-02-07 15:32:20,835]\u001b[0m Trial 81 finished with value: 0.9354261324521549 and parameters: {'n_estimators': 150, 'criterion': 'entropy', 'min_samples_split': 3, 'min_samples_leaf': 1, 'max_depth': 7, 'max_features': 'sqrt'}. Best is trial 60 with value: 0.9354261324521549.\u001b[0m\n",
      "\u001b[32m[I 2023-02-07 15:32:21,304]\u001b[0m Trial 82 finished with value: 0.9354261324521549 and parameters: {'n_estimators': 150, 'criterion': 'entropy', 'min_samples_split': 3, 'min_samples_leaf': 1, 'max_depth': 7, 'max_features': 'sqrt'}. Best is trial 60 with value: 0.9354261324521549.\u001b[0m\n",
      "\u001b[32m[I 2023-02-07 15:32:21,769]\u001b[0m Trial 83 finished with value: 0.9354261324521549 and parameters: {'n_estimators': 150, 'criterion': 'entropy', 'min_samples_split': 3, 'min_samples_leaf': 1, 'max_depth': 7, 'max_features': 'sqrt'}. Best is trial 60 with value: 0.9354261324521549.\u001b[0m\n",
      "\u001b[32m[I 2023-02-07 15:32:22,187]\u001b[0m Trial 84 finished with value: 0.9354261324521549 and parameters: {'n_estimators': 150, 'criterion': 'entropy', 'min_samples_split': 3, 'min_samples_leaf': 1, 'max_depth': 7, 'max_features': 'sqrt'}. Best is trial 60 with value: 0.9354261324521549.\u001b[0m\n",
      "\u001b[32m[I 2023-02-07 15:32:22,608]\u001b[0m Trial 85 finished with value: 0.9354261324521549 and parameters: {'n_estimators': 150, 'criterion': 'entropy', 'min_samples_split': 3, 'min_samples_leaf': 1, 'max_depth': 7, 'max_features': 'sqrt'}. Best is trial 60 with value: 0.9354261324521549.\u001b[0m\n",
      "\u001b[32m[I 2023-02-07 15:32:23,030]\u001b[0m Trial 86 finished with value: 0.9220597549222085 and parameters: {'n_estimators': 150, 'criterion': 'entropy', 'min_samples_split': 3, 'min_samples_leaf': 1, 'max_depth': 7, 'max_features': 'log2'}. Best is trial 60 with value: 0.9354261324521549.\u001b[0m\n",
      "\u001b[32m[I 2023-02-07 15:32:23,445]\u001b[0m Trial 87 finished with value: 0.9354261324521549 and parameters: {'n_estimators': 150, 'criterion': 'entropy', 'min_samples_split': 3, 'min_samples_leaf': 1, 'max_depth': 7, 'max_features': 'sqrt'}. Best is trial 60 with value: 0.9354261324521549.\u001b[0m\n",
      "\u001b[32m[I 2023-02-07 15:32:23,888]\u001b[0m Trial 88 finished with value: 0.9354261324521549 and parameters: {'n_estimators': 150, 'criterion': 'entropy', 'min_samples_split': 3, 'min_samples_leaf': 1, 'max_depth': 7, 'max_features': 'sqrt'}. Best is trial 60 with value: 0.9354261324521549.\u001b[0m\n",
      "\u001b[32m[I 2023-02-07 15:32:24,283]\u001b[0m Trial 89 finished with value: 0.9176042957455598 and parameters: {'n_estimators': 150, 'criterion': 'entropy', 'min_samples_split': 3, 'min_samples_leaf': 1, 'max_depth': 6, 'max_features': 'sqrt'}. Best is trial 60 with value: 0.9354261324521549.\u001b[0m\n",
      "\u001b[32m[I 2023-02-07 15:32:24,704]\u001b[0m Trial 90 finished with value: 0.9354261324521549 and parameters: {'n_estimators': 150, 'criterion': 'entropy', 'min_samples_split': 3, 'min_samples_leaf': 1, 'max_depth': 7, 'max_features': 'sqrt'}. Best is trial 60 with value: 0.9354261324521549.\u001b[0m\n",
      "\u001b[32m[I 2023-02-07 15:32:25,129]\u001b[0m Trial 91 finished with value: 0.9354261324521549 and parameters: {'n_estimators': 150, 'criterion': 'entropy', 'min_samples_split': 3, 'min_samples_leaf': 1, 'max_depth': 7, 'max_features': 'sqrt'}. Best is trial 60 with value: 0.9354261324521549.\u001b[0m\n",
      "\u001b[32m[I 2023-02-07 15:32:25,540]\u001b[0m Trial 92 finished with value: 0.9354261324521549 and parameters: {'n_estimators': 150, 'criterion': 'entropy', 'min_samples_split': 3, 'min_samples_leaf': 1, 'max_depth': 7, 'max_features': 'sqrt'}. Best is trial 60 with value: 0.9354261324521549.\u001b[0m\n",
      "\u001b[32m[I 2023-02-07 15:32:25,965]\u001b[0m Trial 93 finished with value: 0.9354261324521549 and parameters: {'n_estimators': 150, 'criterion': 'entropy', 'min_samples_split': 3, 'min_samples_leaf': 1, 'max_depth': 7, 'max_features': 'sqrt'}. Best is trial 60 with value: 0.9354261324521549.\u001b[0m\n",
      "\u001b[32m[I 2023-02-07 15:32:26,389]\u001b[0m Trial 94 finished with value: 0.9354261324521549 and parameters: {'n_estimators': 150, 'criterion': 'entropy', 'min_samples_split': 3, 'min_samples_leaf': 1, 'max_depth': 7, 'max_features': 'sqrt'}. Best is trial 60 with value: 0.9354261324521549.\u001b[0m\n",
      "\u001b[32m[I 2023-02-07 15:32:26,795]\u001b[0m Trial 95 finished with value: 0.9354261324521549 and parameters: {'n_estimators': 150, 'criterion': 'entropy', 'min_samples_split': 3, 'min_samples_leaf': 1, 'max_depth': 7, 'max_features': 'sqrt'}. Best is trial 60 with value: 0.9354261324521549.\u001b[0m\n",
      "\u001b[32m[I 2023-02-07 15:32:27,162]\u001b[0m Trial 96 finished with value: 0.9190940382761944 and parameters: {'n_estimators': 150, 'criterion': 'gini', 'min_samples_split': 3, 'min_samples_leaf': 4, 'max_depth': 7, 'max_features': 'sqrt'}. Best is trial 60 with value: 0.9354261324521549.\u001b[0m\n",
      "\u001b[32m[I 2023-02-07 15:32:27,687]\u001b[0m Trial 97 finished with value: 0.9354261324521549 and parameters: {'n_estimators': 150, 'criterion': 'entropy', 'min_samples_split': 3, 'min_samples_leaf': 1, 'max_depth': 7, 'max_features': 'sqrt'}. Best is trial 60 with value: 0.9354261324521549.\u001b[0m\n",
      "\u001b[32m[I 2023-02-07 15:32:28,143]\u001b[0m Trial 98 finished with value: 0.9317114140162467 and parameters: {'n_estimators': 150, 'criterion': 'entropy', 'min_samples_split': 2, 'min_samples_leaf': 1, 'max_depth': 7, 'max_features': 'sqrt'}. Best is trial 60 with value: 0.9354261324521549.\u001b[0m\n",
      "\u001b[32m[I 2023-02-07 15:32:28,607]\u001b[0m Trial 99 finished with value: 0.9272614622057 and parameters: {'n_estimators': 150, 'criterion': 'entropy', 'min_samples_split': 3, 'min_samples_leaf': 2, 'max_depth': 7, 'max_features': 'sqrt'}. Best is trial 60 with value: 0.9354261324521549.\u001b[0m\n"
     ]
    }
   ],
   "source": [
    "time_start = time.time()\n",
    "study.optimize(objective, n_trials=100)\n",
    "time_bayesian = time.time() - time_start"
   ]
  },
  {
   "cell_type": "code",
   "execution_count": 20,
   "metadata": {},
   "outputs": [],
   "source": [
    "values_bayesian = [100, study.best_trial.number, study.best_trial.value, time_bayesian]\n",
    "results_bayesian = pd.DataFrame([values_bayesian], columns = columns)"
   ]
  },
  {
   "attachments": {},
   "cell_type": "markdown",
   "metadata": {},
   "source": [
    "- Compare the results."
   ]
  },
  {
   "cell_type": "code",
   "execution_count": 21,
   "metadata": {},
   "outputs": [
    {
     "name": "stderr",
     "output_type": "stream",
     "text": [
      "C:\\Users\\eleoc\\AppData\\Local\\Temp\\ipykernel_38672\\3172790065.py:1: FutureWarning: The frame.append method is deprecated and will be removed from pandas in a future version. Use pandas.concat instead.\n",
      "  df = results_grid.append(results_random).append(results_bayesian)\n"
     ]
    },
    {
     "data": {
      "text/html": [
       "<div>\n",
       "<style scoped>\n",
       "    .dataframe tbody tr th:only-of-type {\n",
       "        vertical-align: middle;\n",
       "    }\n",
       "\n",
       "    .dataframe tbody tr th {\n",
       "        vertical-align: top;\n",
       "    }\n",
       "\n",
       "    .dataframe thead th {\n",
       "        text-align: right;\n",
       "    }\n",
       "</style>\n",
       "<table border=\"1\" class=\"dataframe\">\n",
       "  <thead>\n",
       "    <tr style=\"text-align: right;\">\n",
       "      <th></th>\n",
       "      <th>Number of iterations</th>\n",
       "      <th>Iteration Number of Optimal Hyperparamters</th>\n",
       "      <th>Score</th>\n",
       "      <th>Time Elapsed (s)</th>\n",
       "    </tr>\n",
       "  </thead>\n",
       "  <tbody>\n",
       "    <tr>\n",
       "      <th>Grid Search</th>\n",
       "      <td>810</td>\n",
       "      <td>680</td>\n",
       "      <td>0.935426</td>\n",
       "      <td>146.484093</td>\n",
       "    </tr>\n",
       "    <tr>\n",
       "      <th>Random Search</th>\n",
       "      <td>100</td>\n",
       "      <td>72</td>\n",
       "      <td>0.935426</td>\n",
       "      <td>17.360056</td>\n",
       "    </tr>\n",
       "    <tr>\n",
       "      <th>Bayesian Optimization</th>\n",
       "      <td>100</td>\n",
       "      <td>60</td>\n",
       "      <td>0.935426</td>\n",
       "      <td>45.013147</td>\n",
       "    </tr>\n",
       "  </tbody>\n",
       "</table>\n",
       "</div>"
      ],
      "text/plain": [
       "                       Number of iterations  \\\n",
       "Grid Search                             810   \n",
       "Random Search                           100   \n",
       "Bayesian Optimization                   100   \n",
       "\n",
       "                       Iteration Number of Optimal Hyperparamters     Score  \\\n",
       "Grid Search                                                   680  0.935426   \n",
       "Random Search                                                  72  0.935426   \n",
       "Bayesian Optimization                                          60  0.935426   \n",
       "\n",
       "                       Time Elapsed (s)  \n",
       "Grid Search                  146.484093  \n",
       "Random Search                 17.360056  \n",
       "Bayesian Optimization         45.013147  "
      ]
     },
     "execution_count": 21,
     "metadata": {},
     "output_type": "execute_result"
    }
   ],
   "source": [
    "df = results_grid.append(results_random).append(results_bayesian)\n",
    "df.index = ['Grid Search', 'Random Search', 'Bayesian Optimization']\n",
    "df"
   ]
  }
 ],
 "metadata": {
  "kernelspec": {
   "display_name": "Python 3",
   "language": "python",
   "name": "python3"
  },
  "language_info": {
   "codemirror_mode": {
    "name": "ipython",
    "version": 3
   },
   "file_extension": ".py",
   "mimetype": "text/x-python",
   "name": "python",
   "nbconvert_exporter": "python",
   "pygments_lexer": "ipython3",
   "version": "3.10.3"
  },
  "orig_nbformat": 4,
  "vscode": {
   "interpreter": {
    "hash": "369f2c481f4da34e4445cda3fffd2e751bd1c4d706f27375911949ba6bb62e1c"
   }
  }
 },
 "nbformat": 4,
 "nbformat_minor": 2
}
