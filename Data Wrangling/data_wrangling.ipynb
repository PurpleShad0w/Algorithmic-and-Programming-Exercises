{
 "cells": [
  {
   "cell_type": "code",
   "execution_count": null,
   "id": "fec68215",
   "metadata": {},
   "outputs": [],
   "source": [
    "---\n",
    "title: \"Data Wrangling Report - Code Section\"\n",
    "author: \"CINQUANTA Octave\" \n",
    "date: \"`r format(Sys.time(), '%b %Y')`\"\n",
    "output: \n",
    "  pdf_document: \n",
    "    toc: TRUE\n",
    "always_allow_html: true\n",
    "---"
   ]
  },
  {
   "cell_type": "code",
   "execution_count": null,
   "id": "d2ea7788",
   "metadata": {
    "echo": true,
    "eval": true,
    "name": "global_options",
    "tags": [
     "remove_cell"
    ]
   },
   "outputs": [],
   "source": [
    "knitr::opts_chunk$set(message=FALSE, echo = TRUE, tidy.opts=list(width.cutoff=60))"
   ]
  },
  {
   "cell_type": "code",
   "execution_count": null,
   "id": "c7622809",
   "metadata": {
    "tags": [
     "remove_cell"
    ]
   },
   "outputs": [],
   "source": [
    "library(reticulate)\n",
    "library(Rcpp)"
   ]
  },
  {
   "cell_type": "markdown",
   "id": "439e789c",
   "metadata": {},
   "source": [
    "## Scraping"
   ]
  },
  {
   "cell_type": "code",
   "execution_count": null,
   "id": "32956545",
   "metadata": {},
   "outputs": [],
   "source": [
    "%%python\n",
    "# Importing libraries\n",
    "from bs4 import BeautifulSoup\n",
    "import requests\n",
    "from lxml import etree\n",
    "import re\n",
    "import pandas as pd"
   ]
  },
  {
   "cell_type": "markdown",
   "id": "f7a312d6",
   "metadata": {},
   "source": [
    "The URL Scraper:"
   ]
  },
  {
   "cell_type": "code",
   "execution_count": null,
   "id": "52a1c54f",
   "metadata": {},
   "outputs": [],
   "source": [
    "%%python\n",
    "# Setting the variables to be used in the scraper\n",
    "next_page = ''\n",
    "df = pd.DataFrame()\n",
    "page_number = 2     # This variable determines the number of pages to be scraped"
   ]
  },
  {
   "cell_type": "code",
   "execution_count": null,
   "id": "b645ee05",
   "metadata": {},
   "outputs": [],
   "source": [
    "%%python\n",
    "# Looping through the pages to scrap\n",
    "for k in range(page_number):\n",
    "    # Collecting the page using the general URL and the suffix obtained below \n",
    "    page = requests.get('https://theses.fr/fr/?q='+re.sub(\"'\",\"\",next_page))    \n",
    "    # Treating the page using Beautiful Soup and lxml\n",
    "    soup = BeautifulSoup(page.text, 'html.parser')\n",
    "    dom = etree.HTML(str(soup))\n",
    "    # Setting the correct x-path and some useful variables\n",
    "    X_path_url = '//*[@id=\"resultat\"]/div[1]/div[1]/h2/a'\n",
    "    j = 1\n",
    "    links = []\n",
    "    # Looping through the theses to scrap\n",
    "    for i in range(10):\n",
    "        # Using the x-path to select the thesis' link and store it in an array\n",
    "        links.append('https://theses.fr'+dom.xpath(X_path_url)[0].get('href'))\n",
    "        j = j+3\n",
    "        # Changing the x-path to the one of the next thesis\n",
    "        X_path_url = '//*[@id=\"resultat\"]/div['+str(j)+']/div[1]/h2/a'\n",
    "    # Obtaining the URL suffix of the next page and treating it with regex\n",
    "    next_page_raw = dom.xpath('//*[@id=\"pagination\"]/a[13]')[0].get('href')\n",
    "    next_page = re.search('(\\'(.*?)\\')',next_page_raw).group(1)\n",
    "    # Storing the obtained links in the data frame\n",
    "    df = df.append(links)\n",
    "    print('scraping page '+str(k+1)+'/'+str(page_number))"
   ]
  },
  {
   "cell_type": "code",
   "execution_count": null,
   "id": "08a25379",
   "metadata": {},
   "outputs": [],
   "source": [
    "%%python\n",
    "# Exporting the links to a csv file\n",
    "df.to_csv('url.csv')"
   ]
  },
  {
   "cell_type": "markdown",
   "id": "87babf76",
   "metadata": {},
   "source": [
    "The Author Scraper:"
   ]
  },
  {
   "cell_type": "code",
   "execution_count": null,
   "id": "7f057d46",
   "metadata": {},
   "outputs": [],
   "source": [
    "%%python\n",
    "# Setting up the new data frame\n",
    "df2 = pd.DataFrame()"
   ]
  },
  {
   "cell_type": "code",
   "execution_count": null,
   "id": "b8baf87d",
   "metadata": {},
   "outputs": [],
   "source": [
    "%%python\n",
    "for k in range(len(df)):\n",
    "    # Collecting and treating the page, as well as setting up a variable\n",
    "    page = requests.get(df.iloc[k,0])\n",
    "    soup = BeautifulSoup(page.text, 'html.parser')\n",
    "    dom = etree.HTML(str(soup))\n",
    "    authors = []\n",
    "    # There are two potential x-paths for the author\n",
    "    # So the scraper has to try both the first one and use the second one if necessary\n",
    "    try:\n",
    "        authors.append(dom.xpath('//*[@id=\"ficheTitre\"]/div[2]/h2/span')[0].text)\n",
    "    except IndexError:\n",
    "        authors.append(dom.xpath('//*[@id=\"ficheTitre\"]/div[2]/h2/a/span')[0].text)\n",
    "    # Storing the obtained author names in the new data frame\n",
    "    df2 = df2.append(authors)\n",
    "    print('scraping author '+str(k+1)+'/'+str(len(df)))"
   ]
  },
  {
   "cell_type": "code",
   "execution_count": null,
   "id": "c4d0d1d8",
   "metadata": {},
   "outputs": [],
   "source": [
    "%%python\n",
    "# Removing the duplicate authors\n",
    "df2 = df2.drop_duplicates()\n",
    "# Exporting the authors to a csv file\n",
    "df2.to_csv('authors.csv')"
   ]
  },
  {
   "cell_type": "markdown",
   "id": "bb3088f8",
   "metadata": {},
   "source": [
    "## Setting up the R environment"
   ]
  },
  {
   "cell_type": "code",
   "execution_count": null,
   "id": "0ed1278d",
   "metadata": {
    "name": "setup"
   },
   "outputs": [],
   "source": [
    "# Setting the working directory\n",
    "knitr::opts_knit$set(root.dir = \"C:/Users/eleoc/Desktop/WORK/Y3S1\")"
   ]
  },
  {
   "cell_type": "code",
   "execution_count": null,
   "id": "7264df59",
   "metadata": {},
   "outputs": [],
   "source": [
    "# Loading libraries\n",
    "library(dplyr)\n",
    "library(lubridate)\n",
    "library(ggplot2)\n",
    "library(hrbrthemes)\n",
    "library(viridis)\n",
    "library(naniar)\n",
    "library(questionr)\n",
    "library(missForest)\n",
    "library(xtable)\n",
    "library(stringr)\n",
    "library(plotly)"
   ]
  },
  {
   "cell_type": "code",
   "execution_count": null,
   "id": "7e41da66",
   "metadata": {},
   "outputs": [],
   "source": [
    "# Preparing a cleaner\n",
    "rm(list=ls())"
   ]
  },
  {
   "cell_type": "markdown",
   "id": "71f319c2",
   "metadata": {},
   "source": [
    "## Missing Data"
   ]
  },
  {
   "cell_type": "code",
   "execution_count": null,
   "id": "2f80ae38",
   "metadata": {},
   "outputs": [],
   "source": [
    "# Importing the data-set\n",
    "theses <- read.csv('Data Wrangling\\\\theses_v2.csv',header=T, na.strings=c(\"\",\" \",\"NA\"))"
   ]
  },
  {
   "cell_type": "code",
   "execution_count": null,
   "id": "2e1b55d0",
   "metadata": {},
   "outputs": [],
   "source": [
    "# Plotting the missing data\n",
    "vis_miss(theses,warn_large_data = FALSE) + \n",
    "  labs(title = \"Missingness of the theses data\")"
   ]
  },
  {
   "cell_type": "code",
   "execution_count": null,
   "id": "59436e78",
   "metadata": {},
   "outputs": [],
   "source": [
    "# Creating a table of the missing data\n",
    "freq.na(theses)"
   ]
  },
  {
   "cell_type": "code",
   "execution_count": null,
   "id": "ecd25617",
   "metadata": {},
   "outputs": [],
   "source": [
    "# Creating normally distributed array of number of pages, with 20% of missing values\n",
    "pages <- matrix(rnorm(447644,200,50), 447644, 1) %>%\n",
    "  prodNA(noNA = 0.2)\n",
    "# Imputing the missing values with the column mean\n",
    "pages[is.na(pages)] <- mean(pages,na.rm=TRUE)\n",
    "# Rounding the values\n",
    "pages <- round(pages)\n",
    "# Inserting the column into the main data frame\n",
    "theses$n.pages <- pages"
   ]
  },
  {
   "cell_type": "markdown",
   "id": "b5798bfd",
   "metadata": {},
   "source": [
    "## Common Issues"
   ]
  },
  {
   "cell_type": "code",
   "execution_count": null,
   "id": "d21d0727",
   "metadata": {},
   "outputs": [],
   "source": [
    "# Formatting the defense dates\n",
    "theses$Date.de.soutenance <- as.Date(theses$Date.de.soutenance,format='%d-%m-%Y')\n",
    "# Creating two new columns corresponding to the day and month of defense\n",
    "theses <- theses %>%\n",
    "  mutate(Month = month(Date.de.soutenance)) %>%\n",
    "  mutate(Day = day(Date.de.soutenance))"
   ]
  },
  {
   "cell_type": "code",
   "execution_count": null,
   "id": "3c60da7b",
   "metadata": {},
   "outputs": [],
   "source": [
    "# Counting the number of theses defended on the first of January\n",
    "theses %>%\n",
    "  filter(Month == 1 & Day == 1) %>%\n",
    "  count(Month,Year) %>%\n",
    "  colSums()"
   ]
  },
  {
   "cell_type": "code",
   "execution_count": null,
   "id": "cf59dc82",
   "metadata": {},
   "outputs": [],
   "source": [
    "# Obtaining the percentage of thesis defended on the first of January\n",
    "(281012/447644)*100"
   ]
  },
  {
   "cell_type": "code",
   "execution_count": null,
   "id": "53733e3c",
   "metadata": {},
   "outputs": [],
   "source": [
    "# Counting the number of theses not defended on the first of January per month\n",
    "monthly_normal <- theses %>%\n",
    "  filter(!(Month == 1 & Day == 1)) %>%\n",
    "  count(Month,Year)\n",
    "# Resuming this data per year\n",
    "monthly_sum <- aggregate(monthly_normal$n,by=list(monthly_normal$Year), FUN=sum)"
   ]
  },
  {
   "cell_type": "code",
   "execution_count": null,
   "id": "e58b8b09",
   "metadata": {},
   "outputs": [],
   "source": [
    "# Counting the number of theses defended on the first of January per month\n",
    "monthly11 <- theses %>%\n",
    "  filter(Month == 1 & Day == 1) %>%\n",
    "  count(Month,Year)"
   ]
  },
  {
   "cell_type": "code",
   "execution_count": null,
   "id": "0a921168",
   "metadata": {},
   "outputs": [],
   "source": [
    "# Renaming the Year column properly\n",
    "names(monthly_sum)[names(monthly_sum) == 'Group.1'] <- 'Year'"
   ]
  },
  {
   "cell_type": "code",
   "execution_count": null,
   "id": "6d6db97d",
   "metadata": {},
   "outputs": [],
   "source": [
    "# Dropping the useless month column\n",
    "monthly11 <- select(monthly11,2,3)"
   ]
  },
  {
   "cell_type": "code",
   "execution_count": null,
   "id": "5bf7a54e",
   "metadata": {},
   "outputs": [],
   "source": [
    "# Merging the two data-sets to compare them\n",
    "january <- merge(monthly_sum, monthly11, by = 'Year')"
   ]
  },
  {
   "cell_type": "code",
   "execution_count": null,
   "id": "f69ff817",
   "metadata": {},
   "outputs": [],
   "source": [
    "# Computing the percentage of thesis defended on the first of January\n",
    "january$percent <- (january$n/(january$n+january$x))*100"
   ]
  },
  {
   "cell_type": "code",
   "execution_count": null,
   "id": "c0c70974",
   "metadata": {},
   "outputs": [],
   "source": [
    "# Plotting the data\n",
    "ggplot(january) +\n",
    "  geom_bar(aes(x=Year, y=percent), stat=\"identity\", fill=\"skyblue\", alpha=0.7) + \n",
    "  labs(title = \"Evolution of the percentage of theses defended on the first of January\")"
   ]
  },
  {
   "cell_type": "code",
   "execution_count": null,
   "id": "a1ec3ac5",
   "metadata": {},
   "outputs": [],
   "source": [
    "# Filtering out people having defended more than one thesis\n",
    "unique_author_ID <- theses %>%\n",
    "  filter(!duplicated(Identifiant.auteur))\n",
    "# Obtaining the number of name homonyms\n",
    "sum(duplicated(unique_author_ID$Auteur))"
   ]
  },
  {
   "cell_type": "code",
   "execution_count": null,
   "id": "565fd8a4",
   "metadata": {},
   "outputs": [],
   "source": [
    "# Computing the percentage of name homonyms\n",
    "(9091/447644)*100"
   ]
  },
  {
   "cell_type": "code",
   "execution_count": null,
   "id": "78e9fbaf",
   "metadata": {},
   "outputs": [],
   "source": [
    "# Looking for the Cecile Martin\n",
    "theses %>%\n",
    "  filter(Auteur == 'Cecile Martin' & Identifiant.auteur == '81323557')"
   ]
  },
  {
   "cell_type": "code",
   "execution_count": null,
   "id": "353bb806",
   "metadata": {},
   "outputs": [],
   "source": [
    "# Looking up the types of Identifiant.directeur\n",
    "table(sapply(theses$Identifiant.directeur, class))"
   ]
  },
  {
   "cell_type": "code",
   "execution_count": null,
   "id": "d17eb1ec",
   "metadata": {},
   "outputs": [],
   "source": [
    "# Looking up the number of director IDs containing commas\n",
    "(sum(str_count(theses$Identifiant.directeur,\",\") != 0))/2"
   ]
  },
  {
   "cell_type": "code",
   "execution_count": null,
   "id": "020d298a",
   "metadata": {},
   "outputs": [],
   "source": [
    "# Computing the percentage of director IDs containing commas\n",
    "(29554/447644)*100"
   ]
  },
  {
   "cell_type": "markdown",
   "id": "621ac5d0",
   "metadata": {},
   "source": [
    "## Outliers"
   ]
  },
  {
   "cell_type": "code",
   "execution_count": null,
   "id": "1781cf17",
   "metadata": {},
   "outputs": [],
   "source": [
    "# Creating a data frame with the frequency of directors\n",
    "directors <- as.data.frame(table(theses$Directeur.de.these))\n",
    "# Renaming its columns\n",
    "directors <- directors %>%\n",
    "  rename(Name = Var1, n = Freq)"
   ]
  },
  {
   "cell_type": "code",
   "execution_count": null,
   "id": "983573ac",
   "metadata": {},
   "outputs": [],
   "source": [
    "# Looking at the directors that directed a lot of theses\n",
    "directors %>%\n",
    "  filter(n >= 100)"
   ]
  },
  {
   "cell_type": "code",
   "execution_count": null,
   "id": "fab548cf",
   "metadata": {},
   "outputs": [],
   "source": [
    "# Creating a data frame with the frequency of authors\n",
    "authors <- as.data.frame(table(theses$Auteur))\n",
    "# Renaming its columns\n",
    "authors <- authors %>%\n",
    "  rename(Name = Var1, n = Freq)"
   ]
  },
  {
   "cell_type": "code",
   "execution_count": null,
   "id": "08599f0b",
   "metadata": {},
   "outputs": [],
   "source": [
    "# Looking at the authors that defended a lot of theses\n",
    "authors %>%\n",
    "  filter(n >= 10)"
   ]
  },
  {
   "cell_type": "code",
   "execution_count": null,
   "id": "6adc9cc1",
   "metadata": {},
   "outputs": [],
   "source": [
    "# Looking for early career scientists\n",
    "theses %>%\n",
    "  filter(Auteur == 'Philippe Michel' & Identifiant.auteur == '83251103')"
   ]
  },
  {
   "cell_type": "markdown",
   "id": "a0ac2c31",
   "metadata": {},
   "source": [
    "## Preliminary Results"
   ]
  },
  {
   "cell_type": "code",
   "execution_count": null,
   "id": "55046457",
   "metadata": {},
   "outputs": [],
   "source": [
    "# Renaming the languages column\n",
    "theses <- theses %>%\n",
    "  rename(langage = Langue.de.la.these)"
   ]
  },
  {
   "cell_type": "code",
   "execution_count": null,
   "id": "d5c3dec4",
   "metadata": {},
   "outputs": [],
   "source": [
    "# Counting the languages\n",
    "langages <- theses %>%\n",
    "  count(langage,Year) %>%\n",
    "  mutate(langage = case_when(langage == 'fr' ~ 'french', langage == 'en' ~ 'english',\n",
    "                             langage == 'fren' | langage == 'enfr' ~ 'bilingual',\n",
    "                             TRUE ~ 'others')) %>%\n",
    "  group_by(langage,Year) %>%\n",
    "  summarise(n = sum(n))"
   ]
  },
  {
   "cell_type": "code",
   "execution_count": null,
   "id": "60db61a1",
   "metadata": {},
   "outputs": [],
   "source": [
    "# Removing the useless years\n",
    "langages <- langages %>%\n",
    "  filter(Year >= 1988 & Year <= 2018)"
   ]
  },
  {
   "cell_type": "code",
   "execution_count": null,
   "id": "6e4c16fb",
   "metadata": {},
   "outputs": [],
   "source": [
    "# Plotting the data using ggplot\n",
    "ggplot(langages, aes(x=Year, y=n, \n",
    "                     fill=factor(langage, \n",
    "                                 levels = c('french','bilingual','others','english')))) + \n",
    "  geom_area(position = position_stack(reverse = TRUE)) +\n",
    "  labs(fill='Language') +\n",
    "  scale_fill_viridis_d() + \n",
    "  labs(title = \"Evolution of the number of theses defended per language\")"
   ]
  },
  {
   "cell_type": "code",
   "execution_count": null,
   "id": "fe050707",
   "metadata": {},
   "outputs": [],
   "source": [
    "# Creating a variable per language \n",
    "lang_bilingual <- subset(langages,langage == 'bilingual')\n",
    "lang_french <- subset(langages,langage == 'french')\n",
    "lang_english <- subset(langages,langage == 'english')\n",
    "lang_others <- subset(langages,langage == 'others')"
   ]
  },
  {
   "cell_type": "code",
   "execution_count": null,
   "id": "dc5c9aa2",
   "metadata": {},
   "outputs": [],
   "source": [
    "# Creating a new language variable for use of plotly\n",
    "langages2 <- lang_bilingual[2]\n",
    "langages2 <- langages2 %>%\n",
    "  mutate(bilingual = lang_bilingual$n,french = lang_french$n,\n",
    "         english = lang_english$n,others = lang_others$n)"
   ]
  },
  {
   "cell_type": "code",
   "execution_count": null,
   "id": "1e0e222b",
   "metadata": {},
   "outputs": [],
   "source": [
    "# Plotting the data using plotly\n",
    "fig <- plot_ly(langages2, x = ~Year, y = ~bilingual, \n",
    "               name = 'Bilingual', type = 'scatter', \n",
    "               mode = 'none', stackgroup = 'one', fillcolor = '#F5FF8D')\n",
    "fig <- fig %>% add_trace(y = ~others, name = 'Others', fillcolor = '#700961')\n",
    "fig <- fig %>% add_trace(y = ~english, name = 'English', fillcolor = '#50CB86')\n",
    "fig <- fig %>% add_trace(y = ~french, name = 'French', fillcolor = '#4C74C9')\n",
    "fig <- fig %>% layout(title = 'Evolution of the number of theses defended per language',\n",
    "         xaxis = list(title = \"\",\n",
    "                      showgrid = FALSE),\n",
    "         yaxis = list(title = \"Language\",\n",
    "                      showgrid = FALSE))\n",
    "fig"
   ]
  },
  {
   "cell_type": "code",
   "execution_count": null,
   "id": "4ec3c023",
   "metadata": {},
   "outputs": [],
   "source": [
    "# Obtaining the monthly amount of theses\n",
    "monthly <- theses %>%\n",
    "  filter(!(Month == 1 & Day == 1)) %>%\n",
    "  count(Month,Year)"
   ]
  },
  {
   "cell_type": "code",
   "execution_count": null,
   "id": "605b4453",
   "metadata": {},
   "outputs": [],
   "source": [
    "# Removing the useless years\n",
    "monthly <- monthly %>%\n",
    "  filter(Year >= 2013 & Year != 2020)"
   ]
  },
  {
   "cell_type": "code",
   "execution_count": null,
   "id": "7d5deb0e",
   "metadata": {},
   "outputs": [],
   "source": [
    "# Computing the yearly percentages\n",
    "monthly <- monthly %>%\n",
    "  group_by(Year) %>% \n",
    "  mutate(percent = n/sum(n)*100)"
   ]
  },
  {
   "cell_type": "code",
   "execution_count": null,
   "id": "8a2ad1ca",
   "metadata": {},
   "outputs": [],
   "source": [
    "# Obtaining the means and standard deviations of those percentages\n",
    "monthly <- monthly %>%\n",
    "  group_by(Month) %>%\n",
    "  mutate(mean = mean(percent)) %>%\n",
    "  mutate(sd = sd(percent))"
   ]
  },
  {
   "cell_type": "code",
   "execution_count": null,
   "id": "a78b2bbd",
   "metadata": {},
   "outputs": [],
   "source": [
    "# Collecting the data in a simpler matrix\n",
    "superior_monthly <- unique(select(monthly,1,5,6))"
   ]
  },
  {
   "cell_type": "code",
   "execution_count": null,
   "id": "db5f6b77",
   "metadata": {
    "lines_to_next_cell": 0
   },
   "outputs": [],
   "source": [
    "# Plotting the data\n",
    "ggplot(superior_monthly) +\n",
    "  geom_bar(aes(x=Month, y=mean), stat=\"identity\", fill=\"skyblue\", alpha=0.7) +\n",
    "  geom_errorbar(aes(x=Month, ymin=mean-sd, ymax=mean+sd), \n",
    "                width=0.4, colour=\"orange\", alpha=0.9, size=1.3) + \n",
    "  labs(title = \"Repartition of the percentage of theses defended per month\")"
   ]
  }
 ],
 "metadata": {
  "interpreter": {
   "hash": "d68d545a08a1b9aeb5c7d56ff4943e2f32d14472d7fa496809cdcc89352da03a"
  },
  "jupytext": {
   "cell_metadata_filter": "tags,echo,name,eval,-all",
   "main_language": "R",
   "notebook_metadata_filter": "-all"
  },
  "kernelspec": {
   "display_name": "R",
   "language": "R",
   "name": "ir"
  },
  "language_info": {
   "name": "R",
   "version": "3.9.1"
  }
 },
 "nbformat": 4,
 "nbformat_minor": 5
}
