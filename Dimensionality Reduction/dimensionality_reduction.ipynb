{
 "cells": [
  {
   "cell_type": "code",
   "execution_count": null,
   "id": "2cdd4d2f",
   "metadata": {},
   "outputs": [],
   "source": [
    "---\n",
    "title: \"Dimensionality Reduction Report - Code Section\"\n",
    "author: \"CINQUANTA Octave\" \n",
    "date: \"`r format(Sys.time(), '%b %Y')`\"\n",
    "output: \n",
    "  pdf_document: \n",
    "    toc: TRUE\n",
    "always_allow_html: true\n",
    "---"
   ]
  },
  {
   "cell_type": "code",
   "execution_count": null,
   "id": "288141f2",
   "metadata": {
    "echo": true,
    "eval": true,
    "name": "global_options",
    "tags": [
     "remove_cell"
    ]
   },
   "outputs": [],
   "source": [
    "knitr::opts_chunk$set(message=FALSE, echo = TRUE, tidy.opts=list(width.cutoff=60)) "
   ]
  },
  {
   "cell_type": "code",
   "execution_count": null,
   "id": "be5cf4ba",
   "metadata": {
    "name": "setup"
   },
   "outputs": [],
   "source": [
    "# Setting the working directory\n",
    "knitr::opts_knit$set(root.dir = \"C:/Users/eleoc/Desktop/WORK/Y3S1\")"
   ]
  },
  {
   "cell_type": "code",
   "execution_count": null,
   "id": "b87b8a44",
   "metadata": {},
   "outputs": [],
   "source": [
    "# Loading libraries\n",
    "library(corrplot)\n",
    "library(gginference)\n",
    "library(dplyr)\n",
    "library(ggplot2)\n",
    "library(factoextra)\n",
    "library(stats)\n",
    "library(FactoMineR)\n",
    "library(GGally)\n",
    "library(hrbrthemes)\n",
    "library(viridis)"
   ]
  },
  {
   "cell_type": "code",
   "execution_count": null,
   "id": "62d28e01",
   "metadata": {},
   "outputs": [],
   "source": [
    "# Preparing a cleaner\n",
    "rm(list=ls())"
   ]
  },
  {
   "cell_type": "markdown",
   "id": "65fd9b5a",
   "metadata": {},
   "source": [
    "## Identifying correlations in the variables"
   ]
  },
  {
   "cell_type": "code",
   "execution_count": null,
   "id": "0eadde60",
   "metadata": {},
   "outputs": [],
   "source": [
    "# Importing data\n",
    "users = read.csv('Dimensionality Reduction\\\\users.db.csv')"
   ]
  },
  {
   "cell_type": "code",
   "execution_count": null,
   "id": "ccca470e",
   "metadata": {},
   "outputs": [],
   "source": [
    "# Creating a data set of only numeric values of users\n",
    "users_num <- mutate_all(users, function(x) as.numeric(as.character(x)))\n",
    "users_num <- select(users_num,-1,-2,-7,-8,-9)"
   ]
  },
  {
   "cell_type": "code",
   "execution_count": null,
   "id": "d3697732",
   "metadata": {},
   "outputs": [],
   "source": [
    "# Adding a variable corresponding to the logged score\n",
    "users_num$score_logged <- log(users_num$score)"
   ]
  },
  {
   "cell_type": "code",
   "execution_count": null,
   "id": "d024bd92",
   "metadata": {},
   "outputs": [],
   "source": [
    "# Removing the categorical variables\n",
    "users_num2 <- select(users_num,-5,-8,-9,-10,-11)"
   ]
  },
  {
   "cell_type": "code",
   "execution_count": null,
   "id": "11ffa6aa",
   "metadata": {},
   "outputs": [],
   "source": [
    "# Plotting the correlations in users\n",
    "corrplot(cor(users_num2),method = 'number')"
   ]
  },
  {
   "cell_type": "code",
   "execution_count": null,
   "id": "16cdc48b",
   "metadata": {},
   "outputs": [],
   "source": [
    "# Cor test between score and matches\n",
    "cor.test(users_num2$score, users_num2$n.matches)"
   ]
  },
  {
   "cell_type": "code",
   "execution_count": null,
   "id": "a2131bd1",
   "metadata": {},
   "outputs": [],
   "source": [
    "# Cor test between score logged and matches\n",
    "cor.test(users_num2$score_logged, users_num2$n.matches)"
   ]
  },
  {
   "cell_type": "code",
   "execution_count": null,
   "id": "529bc53d",
   "metadata": {},
   "outputs": [],
   "source": [
    "# Cor test between entimental analysis and matches\n",
    "cor.test(users_num2$sent.ana, users_num2$n.matches)"
   ]
  },
  {
   "cell_type": "code",
   "execution_count": null,
   "id": "6b4e1b05",
   "metadata": {},
   "outputs": [],
   "source": [
    "# Cor test between photo updates and matches\n",
    "cor.test(users_num2$n.updates.photo, users_num2$n.matches)"
   ]
  },
  {
   "cell_type": "markdown",
   "id": "73874a77",
   "metadata": {},
   "source": [
    "## Dimensionality Reduction"
   ]
  },
  {
   "cell_type": "code",
   "execution_count": null,
   "id": "b9bf5002",
   "metadata": {},
   "outputs": [],
   "source": [
    "# PCA of users\n",
    "PCA <- prcomp(users_num2, scale = TRUE)\n",
    "PCA$rotation"
   ]
  },
  {
   "cell_type": "code",
   "execution_count": null,
   "id": "b532eced",
   "metadata": {},
   "outputs": [],
   "source": [
    "# Circle of correlation\n",
    "fviz_pca_var(PCA, col.var=\"contrib\")+scale_color_gradient2(low=\"#00AFBB\", mid=\"#E7B800\",high=\"#FC4E07\", midpoint=14) +\n",
    "  theme_minimal()"
   ]
  },
  {
   "cell_type": "code",
   "execution_count": null,
   "id": "36352edb",
   "metadata": {},
   "outputs": [],
   "source": [
    "# Individual map of PCA\n",
    "fviz_pca_ind(PCA,col.ind = \"cos2\",gradient.cols = c(\"#00AFBB\", \"#E7B800\", \"#FC4E07\"),repel = TRUE, geom = 'point', select.ind = list(cos2 = 3000))"
   ]
  },
  {
   "cell_type": "code",
   "execution_count": null,
   "id": "73c9e3d3",
   "metadata": {},
   "outputs": [],
   "source": [
    "# Biplot of PCA\n",
    "fviz_pca_biplot(PCA,col.ind = \"cos2\",gradient.cols = c(\"#00AFBB\", \"#E7B800\", \"#FC4E07\"),repel = TRUE, geom = 'point', select.ind = list(cos2 = 300))"
   ]
  },
  {
   "cell_type": "code",
   "execution_count": null,
   "id": "a042449a",
   "metadata": {},
   "outputs": [],
   "source": [
    "# Table of loadings\n",
    "PCA_in <- princomp(users_num2, scale = TRUE, scores = TRUE)\n",
    "PCA_in$loadings"
   ]
  },
  {
   "cell_type": "code",
   "execution_count": null,
   "id": "7180a50c",
   "metadata": {},
   "outputs": [],
   "source": [
    "users_cat <- select(users,10,13,14,15,16)\n",
    "users_cat$gender <- as.factor(users_cat$gender)\n",
    "users_cat$voyage <- as.factor(users_cat$voyage)\n",
    "users_cat$laugh <- as.factor(users_cat$laugh)\n",
    "users_cat$photo.keke <- as.factor(users_cat$photo.keke)\n",
    "users_cat$photo.beach <- as.factor(users_cat$photo.beach)\n",
    "MCA <- MCA(users_cat,ncp = 5, graph = TRUE)\n",
    "MCA"
   ]
  },
  {
   "cell_type": "code",
   "execution_count": null,
   "id": "960c2e9a",
   "metadata": {},
   "outputs": [],
   "source": [
    "# MCA scree plot\n",
    "fviz_screeplot(MCA)"
   ]
  },
  {
   "cell_type": "markdown",
   "id": "ed826a5f",
   "metadata": {},
   "source": [
    "##  k-means and Hierarchical Clustering"
   ]
  },
  {
   "cell_type": "code",
   "execution_count": null,
   "id": "ff8aa948",
   "metadata": {},
   "outputs": [],
   "source": [
    "# Scree plot of PCA\n",
    "fviz_eig(PCA)"
   ]
  },
  {
   "cell_type": "code",
   "execution_count": null,
   "id": "61346a38",
   "metadata": {},
   "outputs": [],
   "source": [
    "# Scree plot of users_num2\n",
    "wss <- (nrow(users_num2)-1)*sum(apply(users_num2,2,var))\n",
    "  for (i in 2:15) wss[i] <- sum(kmeans(users_num2,\n",
    "                                       centers=i)$withinss)\n",
    "plot(1:15, wss, type=\"b\", xlab=\"Number of Clusters\",\n",
    "     ylab=\"Within groups sum of squares\")"
   ]
  },
  {
   "cell_type": "code",
   "execution_count": null,
   "id": "e51a3d96",
   "metadata": {},
   "outputs": [],
   "source": [
    "# k-means\n",
    "k <- kmeans(users_num2,centers = 5)\n",
    "fviz_cluster(k, data = users_num2, geom=\"point\")"
   ]
  },
  {
   "cell_type": "code",
   "execution_count": null,
   "id": "e27ba363",
   "metadata": {
    "lines_to_next_cell": 2
   },
   "outputs": [],
   "source": [
    "# Understanding the clusters\n",
    "users_clustered = users_num2\n",
    "users_clustered <- users_clustered %>%\n",
    "  mutate(cluster = k$cluster)\n",
    "ggparcoord(users_clustered,\n",
    "    columns = 1:7, groupColumn = 8,\n",
    "    showPoints = TRUE, \n",
    "    title = \"Parallel Coordinate Plot for the k-means clusters\",\n",
    "    alphaLines = 0.3\n",
    "    ) + \n",
    "  scale_color_viridis() +\n",
    "  theme(plot.title = element_text(size=10))+\n",
    "  scale_x_discrete(guide = guide_axis(n.dodge=3))"
   ]
  },
  {
   "cell_type": "code",
   "execution_count": null,
   "id": "04b72eee",
   "metadata": {},
   "outputs": [],
   "source": [
    "# HCPC\n",
    "res <- HCPC(users_num2,nb.clust = 5)\n",
    "fviz_cluster(res, geom=\"point\")"
   ]
  },
  {
   "cell_type": "code",
   "execution_count": null,
   "id": "af661cf0",
   "metadata": {
    "lines_to_next_cell": 0
   },
   "outputs": [],
   "source": [
    "users_clustered2 = res$data.clust\n",
    "users_clustered2$clust <- as.numeric(users_clustered2$clust)\n",
    "ggparcoord(users_clustered2,\n",
    "    columns = 1:7, groupColumn = 8,\n",
    "    showPoints = TRUE, \n",
    "    title = \"Parallel Coordinate Plot for the HC clusters\",\n",
    "    alphaLines = 0.3\n",
    "    ) + \n",
    "  scale_color_viridis() +\n",
    "  theme(plot.title = element_text(size=10))+\n",
    "  scale_x_discrete(guide = guide_axis(n.dodge=3))"
   ]
  }
 ],
 "metadata": {
  "jupytext": {
   "cell_metadata_filter": "tags,eval,name,echo,-all",
   "main_language": "R",
   "notebook_metadata_filter": "-all"
  },
  "kernelspec": {
   "display_name": "R",
   "language": "R",
   "name": "ir"
  },
  "language_info": {
   "name": "R"
  }
 },
 "nbformat": 4,
 "nbformat_minor": 5
}
