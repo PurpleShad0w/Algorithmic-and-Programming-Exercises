{
 "cells": [
  {
   "cell_type": "code",
   "execution_count": null,
   "id": "2b83b360",
   "metadata": {},
   "outputs": [],
   "source": [
    "---\n",
    "title: \"Social Network Analysis Report - Code Section\"\n",
    "author: \"CINQUANTA Octave\" \n",
    "date: \"`r format(Sys.time(), '%b %Y')`\"\n",
    "output: \n",
    "  pdf_document: \n",
    "    toc: TRUE\n",
    "always_allow_html: true\n",
    "---"
   ]
  },
  {
   "cell_type": "code",
   "execution_count": null,
   "id": "c0e6e1f8",
   "metadata": {
    "echo": true,
    "eval": true,
    "name": "global_options",
    "tags": [
     "remove_cell"
    ]
   },
   "outputs": [],
   "source": [
    "knitr::opts_chunk$set(message=FALSE, echo = TRUE, tidy.opts=list(width.cutoff=60)) "
   ]
  },
  {
   "cell_type": "code",
   "execution_count": null,
   "id": "912ba8c6",
   "metadata": {
    "name": "setup"
   },
   "outputs": [],
   "source": [
    "# Setting the working directory\n",
    "knitr::opts_knit$set(root.dir = \"C:/Users/eleoc/Desktop/WORK/Y3S1\")"
   ]
  },
  {
   "cell_type": "code",
   "execution_count": null,
   "id": "f56521c3",
   "metadata": {},
   "outputs": [],
   "source": [
    "# Loading libraries\n",
    "library(dplyr)\n",
    "library(networkD3)\n",
    "library(circlize)\n",
    "library(tidyr)\n",
    "library(corrplot)\n",
    "library(webshot)\n",
    "library(igraph)\n",
    "library(htmlwidgets)\n",
    "library(visNetwork)"
   ]
  },
  {
   "cell_type": "code",
   "execution_count": null,
   "id": "0146d70c",
   "metadata": {},
   "outputs": [],
   "source": [
    "# Preparing a cleaner\n",
    "rm(list=ls())"
   ]
  },
  {
   "cell_type": "code",
   "execution_count": null,
   "id": "a8a83795",
   "metadata": {},
   "outputs": [],
   "source": [
    "# Importing data\n",
    "audit = read.csv('Social Network Analysis\\\\Auditions.db.comp.csv')"
   ]
  },
  {
   "cell_type": "code",
   "execution_count": null,
   "id": "beb8ea94",
   "metadata": {},
   "outputs": [],
   "source": [
    "# Creating subsets\n",
    "audit_sub1 = filter(audit, year == 2017 & status == 'interne')\n",
    "audit_sub2 = filter(audit, year == 2017 & status == 'externe')\n",
    "audit_sub3 = filter(audit, year == 2018 & status == 'interne')\n",
    "audit_sub4 = filter(audit, year == 2018 & status == 'externe')\n",
    "audit_sub5 = filter(audit, year == 2019 & status == 'interne')\n",
    "audit_sub6 = filter(audit, year == 2019 & status == 'externe')\n",
    "audit_sub7 = filter(audit, year == 2020 & status == 'interne')\n",
    "audit_sub8 = filter(audit, year == 2020 & status == 'externe')"
   ]
  },
  {
   "cell_type": "code",
   "execution_count": null,
   "id": "1fe455f5",
   "metadata": {},
   "outputs": [],
   "source": [
    "# Subset and beyond\n",
    "\n",
    "audit_sub1_edge <- audit_sub1 %>%\n",
    "  select(n_poste, Name) %>%\n",
    "  inner_join(., select(., n_poste, Name), by = \"n_poste\") %>%\n",
    "  rename(name1 = Name.x, name2 = Name.y) %>%\n",
    "  filter(name1 != name2) %>%\n",
    "  unique %>%\n",
    "  arrange(n_poste) %>%\n",
    "  select(2,3)\n",
    "\n",
    "audit_sub2_edge <- audit_sub2 %>%\n",
    "  select(n_poste, Name) %>%\n",
    "  inner_join(., select(., n_poste, Name), by = \"n_poste\") %>%\n",
    "  rename(name1 = Name.x, name2 = Name.y) %>%\n",
    "  filter(name1 != name2) %>%\n",
    "  unique %>%\n",
    "  arrange(n_poste) %>%\n",
    "  select(2,3)\n",
    "\n",
    "audit_sub3_edge <- audit_sub3 %>%\n",
    "  select(n_poste, Name) %>%\n",
    "  inner_join(., select(., n_poste, Name), by = \"n_poste\") %>%\n",
    "  rename(name1 = Name.x, name2 = Name.y) %>%\n",
    "  filter(name1 != name2) %>%\n",
    "  unique %>%\n",
    "  arrange(n_poste) %>%\n",
    "  select(2,3)\n",
    "\n",
    "audit_sub4_edge <- audit_sub4 %>%\n",
    "  select(n_poste, Name) %>%\n",
    "  inner_join(., select(., n_poste, Name), by = \"n_poste\") %>%\n",
    "  rename(name1 = Name.x, name2 = Name.y) %>%\n",
    "  filter(name1 != name2) %>%\n",
    "  unique %>%\n",
    "  arrange(n_poste) %>%\n",
    "  select(2,3)\n",
    "\n",
    "audit_sub5_edge <- audit_sub5 %>%\n",
    "  select(n_poste, Name) %>%\n",
    "  inner_join(., select(., n_poste, Name), by = \"n_poste\") %>%\n",
    "  rename(name1 = Name.x, name2 = Name.y) %>%\n",
    "  filter(name1 != name2) %>%\n",
    "  unique %>%\n",
    "  arrange(n_poste) %>%\n",
    "  select(2,3)\n",
    "\n",
    "audit_sub6_edge <- audit_sub6 %>%\n",
    "  select(n_poste, Name) %>%\n",
    "  inner_join(., select(., n_poste, Name), by = \"n_poste\") %>%\n",
    "  rename(name1 = Name.x, name2 = Name.y) %>%\n",
    "  filter(name1 != name2) %>%\n",
    "  unique %>%\n",
    "  arrange(n_poste) %>%\n",
    "  select(2,3)\n",
    "\n",
    "audit_sub7_edge <- audit_sub7 %>%\n",
    "  select(n_poste, Name) %>%\n",
    "  inner_join(., select(., n_poste, Name), by = \"n_poste\") %>%\n",
    "  rename(name1 = Name.x, name2 = Name.y) %>%\n",
    "  filter(name1 != name2) %>%\n",
    "  unique %>%\n",
    "  arrange(n_poste) %>%\n",
    "  select(2,3)\n",
    "\n",
    "audit_sub8_edge <- audit_sub8 %>%\n",
    "  select(n_poste, Name) %>%\n",
    "  inner_join(., select(., n_poste, Name), by = \"n_poste\") %>%\n",
    "  rename(name1 = Name.x, name2 = Name.y) %>%\n",
    "  filter(name1 != name2) %>%\n",
    "  unique %>%\n",
    "  arrange(n_poste) %>%\n",
    "  select(2,3)"
   ]
  },
  {
   "cell_type": "code",
   "execution_count": null,
   "id": "70fbab10",
   "metadata": {},
   "outputs": [],
   "source": [
    "# Creating networks\n",
    "network1 = simpleNetwork(audit_sub1_edge)\n",
    "network2 = simpleNetwork(audit_sub2_edge)\n",
    "network3 = simpleNetwork(audit_sub3_edge)\n",
    "network4 = simpleNetwork(audit_sub4_edge)\n",
    "network5 = simpleNetwork(audit_sub5_edge)\n",
    "network6 = simpleNetwork(audit_sub6_edge)\n",
    "network7 = simpleNetwork(audit_sub7_edge)\n",
    "network8 = simpleNetwork(audit_sub8_edge)"
   ]
  },
  {
   "cell_type": "code",
   "execution_count": null,
   "id": "f1aded2a",
   "metadata": {},
   "outputs": [],
   "source": [
    "saveNetwork(network1,'Social Network Analysis\\\\network1.html') \n",
    "saveNetwork(network2,'Social Network Analysis\\\\network2.html')\n",
    "saveNetwork(network3,'Social Network Analysis\\\\network3.html')\n",
    "saveNetwork(network4,'Social Network Analysis\\\\network4.html')\n",
    "saveNetwork(network5,'Social Network Analysis\\\\network5.html')\n",
    "saveNetwork(network6,'Social Network Analysis\\\\network6.html')\n",
    "saveNetwork(network7,'Social Network Analysis\\\\network7.html')\n",
    "saveNetwork(network8,'Social Network Analysis\\\\network8.html')"
   ]
  },
  {
   "cell_type": "code",
   "execution_count": null,
   "id": "0e3a68fb",
   "metadata": {},
   "outputs": [],
   "source": [
    "webshot(\"Social Network Analysis\\\\network1.html\", \"Social Network Analysis\\\\network1.png\", delay = 1)\n",
    "webshot(\"Social Network Analysis\\\\network2.html\", \"Social Network Analysis\\\\network2.png\", delay = 1)\n",
    "webshot(\"Social Network Analysis\\\\network3.html\", \"Social Network Analysis\\\\network3.png\", delay = 1)\n",
    "webshot(\"Social Network Analysis\\\\network4.html\", \"Social Network Analysis\\\\network4.png\", delay = 1)\n",
    "webshot(\"Social Network Analysis\\\\network5.html\", \"Social Network Analysis\\\\network5.png\", delay = 1)\n",
    "webshot(\"Social Network Analysis\\\\network6.html\", \"Social Network Analysis\\\\network6.png\", delay = 1)\n",
    "webshot(\"Social Network Analysis\\\\network7.html\", \"Social Network Analysis\\\\network7.png\", delay = 1)\n",
    "webshot(\"Social Network Analysis\\\\network8.html\", \"Social Network Analysis\\\\network8.png\", delay = 1)"
   ]
  },
  {
   "cell_type": "code",
   "execution_count": null,
   "id": "22e0fb9a",
   "metadata": {},
   "outputs": [],
   "source": [
    "# Plotting a network using iGraph\n",
    "graph = graph_from_edgelist(data.matrix(audit_sub6_edge), directed = FALSE)\n",
    "igraph.options(vertex.size=7)\n",
    "plot(graph, vertex.label = '')\n",
    "saveWidget(visIgraph(graph), file = 'Social Network Analysis\\\\graph.html')"
   ]
  },
  {
   "cell_type": "code",
   "execution_count": null,
   "id": "384f9b5f",
   "metadata": {
    "lines_to_next_cell": 2
   },
   "outputs": [],
   "source": [
    "# Detecting and plotting communities\n",
    "lc <- cluster_louvain(graph)\n",
    "membership(lc)\n",
    "communities(lc)\n",
    "plot(lc, graph, vertex.label = '')"
   ]
  },
  {
   "cell_type": "code",
   "execution_count": null,
   "id": "b20a2132",
   "metadata": {},
   "outputs": [],
   "source": [
    "# Network of all externals\n",
    "audit_sub9 = filter(audit, status == 'externe')\n",
    "\n",
    "audit_sub9_edge <- audit_sub9 %>%\n",
    "  select(n_poste, Name) %>%\n",
    "  inner_join(., select(., n_poste, Name), by = \"n_poste\") %>%\n",
    "  rename(name1 = Name.x, name2 = Name.y) %>%\n",
    "  filter(name1 != name2) %>%\n",
    "  unique %>%\n",
    "  arrange(n_poste) %>%\n",
    "  select(2,3)\n",
    "\n",
    "network9 = simpleNetwork(audit_sub9_edge)\n",
    "saveNetwork(network9,'Social Network Analysis\\\\network9.html')\n",
    "webshot(\"Social Network Analysis\\\\network9.html\", \"Social Network Analysis\\\\network9.png\", delay = 1)"
   ]
  },
  {
   "cell_type": "code",
   "execution_count": null,
   "id": "444a872e",
   "metadata": {},
   "outputs": [],
   "source": [
    "# Top values of degree\n",
    "Degree <- degree(graph)\n",
    "head(sort(Degree, decreasing = TRUE), n = 10)"
   ]
  },
  {
   "cell_type": "code",
   "execution_count": null,
   "id": "b7e695e1",
   "metadata": {},
   "outputs": [],
   "source": [
    "# Top values of strength\n",
    "Strength <- strength(graph)\n",
    "head(sort(Strength, decreasing = TRUE), n = 10)"
   ]
  },
  {
   "cell_type": "code",
   "execution_count": null,
   "id": "705a49ae",
   "metadata": {},
   "outputs": [],
   "source": [
    "# Top values of betweenness\n",
    "Betweenness <- betweenness(graph)\n",
    "head(sort(Betweenness, decreasing = TRUE), n = 10)"
   ]
  },
  {
   "cell_type": "code",
   "execution_count": null,
   "id": "a9fd2bcf",
   "metadata": {},
   "outputs": [],
   "source": [
    "plot(graph, vertex.label = '', edge.width = Degree)"
   ]
  },
  {
   "cell_type": "code",
   "execution_count": null,
   "id": "fb0a7b1c",
   "metadata": {},
   "outputs": [],
   "source": [
    "plot(graph, vertex.label = '', edge.width = Strength)"
   ]
  },
  {
   "cell_type": "code",
   "execution_count": null,
   "id": "a35d30e9",
   "metadata": {},
   "outputs": [],
   "source": [
    "plot(graph, vertex.label = '', edge.width = Betweenness/50)"
   ]
  },
  {
   "cell_type": "code",
   "execution_count": null,
   "id": "f7201dbe",
   "metadata": {
    "lines_to_next_cell": 0
   },
   "outputs": [],
   "source": [
    "# Making a chord diagram of the CY-Tech students' movement\n",
    "png(\"Social Network Analysis\\\\chord.png\")\n",
    "school <- c('CY Tech','CY Tech','CY Tech','CY Tech','CY Tech','CY Tech','CY Tech','CY Tech','CY Tech','CY Tech','CY Tech','CY Tech','CY Tech','Howest','Gothenburg','Singidunum','Singidunum')\n",
    "student <- c('Sarvesh','Neha','Amr','Khushi','Anh Thu','Yasmine','Buu','Maxime','Gabriel','Aya','Maxime','Rodolphe','Gwénaëlle','Casper','Andreas','Zuk','Johann')\n",
    "university <- c('Gothenburg','Gothenburg','Gothenburg','Gothenburg','Gothenburg','Howest','Howest','Howest','Howest','Howest','Reutlingen','Reutlingen','VUB','CY Tech','CY Tech','CY Tech','CY Tech')\n",
    "data <- data.frame(student, university)\n",
    "adjacencyData <- with(data, table(school, university))\n",
    "chordDiagram(adjacencyData, transparency = 0.5)\n",
    "dev.off()"
   ]
  }
 ],
 "metadata": {
  "jupytext": {
   "cell_metadata_filter": "echo,tags,eval,name,-all",
   "main_language": "R",
   "notebook_metadata_filter": "-all"
  },
  "kernelspec": {
   "display_name": "R",
   "language": "R",
   "name": "ir"
  },
  "language_info": {
   "name": "R"
  }
 },
 "nbformat": 4,
 "nbformat_minor": 5
}
